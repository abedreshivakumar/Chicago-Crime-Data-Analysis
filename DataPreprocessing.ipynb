{
 "cells": [
  {
   "cell_type": "code",
   "execution_count": 2,
   "metadata": {},
   "outputs": [],
   "source": [
    "import os\n",
    "#spark imports\n",
    "from pyspark import SparkContext\n",
    "from pyspark.sql import SparkSession\n",
    "from pyspark.sql import DataFrame\n",
    "import csv\n",
    "\n",
    "from pyspark.sql.types import *\n",
    "from pyspark.sql.functions import format_number, when\n",
    "\n",
    "\n",
    "import pandas as pd\n",
    "import matplotlib.pyplot as plt\n",
    "import numpy as np\n",
    "import pyspark.sql.functions as F"
   ]
  },
  {
   "cell_type": "code",
   "execution_count": 3,
   "metadata": {},
   "outputs": [
    {
     "name": "stderr",
     "output_type": "stream",
     "text": [
      "Setting default log level to \"WARN\".\n",
      "To adjust logging level use sc.setLogLevel(newLevel). For SparkR, use setLogLevel(newLevel).\n",
      "24/12/03 14:52:40 WARN NativeCodeLoader: Unable to load native-hadoop library for your platform... using builtin-java classes where applicable\n"
     ]
    }
   ],
   "source": [
    "#change RAM allocation, current = 8GB\n",
    "#change Core allocation, current = 3 Cores\n",
    "\n",
    "spark = SparkSession.builder.appName(\"Project - Chicago crime\")\\\n",
    ".config(\"spark.some.config.option\", \"some-value\")\\\n",
    ".config(\"spark.driver.memory\", \"5g\")\\\n",
    ".getOrCreate()"
   ]
  },
  {
   "cell_type": "code",
   "execution_count": 4,
   "metadata": {},
   "outputs": [],
   "source": [
    "crimes_schema = StructType([StructField(\"ID\", StringType(), True),\n",
    "                            StructField(\"Case Number\", StringType(), True),\n",
    "                            StructField(\"Date\", StringType(), True ),\n",
    "                            StructField(\"Block\", StringType(), True),\n",
    "                            StructField(\"IUCR\", StringType(), True),\n",
    "                            StructField(\"Primary Type\", StringType(), True  ),\n",
    "                            StructField(\"Description\", StringType(), True ),\n",
    "                            StructField(\"Location Description\", StringType(), True ),\n",
    "                            StructField(\"Arrest\", BooleanType(), True),\n",
    "                            StructField(\"Domestic\", BooleanType(), True),\n",
    "                            StructField(\"Beat\", StringType(), True),\n",
    "                            StructField(\"District\", StringType(), True),\n",
    "                            StructField(\"Ward\", StringType(), True),\n",
    "                            StructField(\"Community Area\", StringType(), True),\n",
    "                            StructField(\"FBI Code\", StringType(), True ),\n",
    "                            StructField(\"X Coordinate\", DoubleType(), True),\n",
    "                            StructField(\"Y Coordinate\", DoubleType(), True ),\n",
    "                            StructField(\"Year\", IntegerType(), True),\n",
    "                            StructField(\"Updated On\", DateType(), True ),\n",
    "                            StructField(\"Latitude\", DoubleType(), True),\n",
    "                            StructField(\"Longitude\", DoubleType(), True),\n",
    "                            StructField(\"Location\", StringType(), True )\n",
    "                            ])\n"
   ]
  },
  {
   "cell_type": "code",
   "execution_count": 5,
   "metadata": {},
   "outputs": [],
   "source": [
    "dataset = spark.read.csv('/Users/sudiptabanerjee/Documents/Big Data Project/Chicago-crime-analysis/Data-Preprocessing/Crime-1.csv',header = True,schema = crimes_schema)\n",
    "#dataset.persist()"
   ]
  },
  {
   "cell_type": "code",
   "execution_count": 6,
   "metadata": {},
   "outputs": [],
   "source": [
    "#dataset.select([\"Latitude\",\"Longitude\",\"Year\",\"X Coordinate\",\"Y Coordinate\"]).describe().show()\n",
    "\n",
    "dataset = dataset.drop('ID')\n",
    "dataset = dataset.drop('Case Number')\n",
    "dataset = dataset.drop('FBI Code')\n",
    "dataset = dataset.drop('Updated On')\n",
    "dataset = dataset.drop('IUCR')# Could be useful - four digit codes that law enforcement agencies use to classify criminal incidents when taking individual reports.\n",
    "dataset = dataset.drop('X Coordinate')\n",
    "dataset = dataset.drop('Y Coordinate')\n",
    "dataset = dataset.drop('Location')\n",
    "#dataset = dataset.drop('Arrest')\n",
    "dataset = dataset.drop('Domestic')\n",
    "dataset = dataset.drop('Beat')\n",
    "#dataset = dataset.drop('Location Description')\n",
    "dataset = dataset.drop('Description')\n",
    "dataset = dataset.drop('District')\n",
    "#dataset = dataset.drop('Ward')\n",
    "dataset = dataset.drop('Community Area')\n",
    "#dataset = dataset.drop('Longitude')\n",
    "#dataset = dataset.drop('Latitude')\n",
    "dataset = dataset.drop('Block')"
   ]
  },
  {
   "cell_type": "markdown",
   "metadata": {},
   "source": [
    "<font size=\"4\">Rows in original dataset(Year 2001-2020)</font>"
   ]
  },
  {
   "cell_type": "code",
   "execution_count": 7,
   "metadata": {},
   "outputs": [
    {
     "name": "stderr",
     "output_type": "stream",
     "text": [
      "                                                                                \r"
     ]
    },
    {
     "data": {
      "text/plain": [
       "999"
      ]
     },
     "execution_count": 7,
     "metadata": {},
     "output_type": "execute_result"
    }
   ],
   "source": [
    "dataset.count()"
   ]
  },
  {
   "cell_type": "markdown",
   "metadata": {},
   "source": [
    "<font size=\"4\">Dataset chosen of year 2010-2019</font>"
   ]
  },
  {
   "cell_type": "code",
   "execution_count": 8,
   "metadata": {},
   "outputs": [],
   "source": [
    "dataset=dataset.filter((dataset['Year'] >2009) & (dataset['Year'] !=2020))"
   ]
  },
  {
   "cell_type": "code",
   "execution_count": 9,
   "metadata": {},
   "outputs": [
    {
     "data": {
      "text/plain": [
       "994"
      ]
     },
     "execution_count": 9,
     "metadata": {},
     "output_type": "execute_result"
    }
   ],
   "source": [
    "dataset.count()"
   ]
  },
  {
   "cell_type": "markdown",
   "metadata": {},
   "source": [
    "<font size=\"4\">Dropped null values in data</font>"
   ]
  },
  {
   "cell_type": "code",
   "execution_count": 10,
   "metadata": {},
   "outputs": [],
   "source": [
    "dataset=dataset.na.drop()"
   ]
  },
  {
   "cell_type": "code",
   "execution_count": 12,
   "metadata": {},
   "outputs": [
    {
     "ename": "SyntaxError",
     "evalue": "invalid syntax (524475127.py, line 1)",
     "output_type": "error",
     "traceback": [
      "\u001b[0;36m  Cell \u001b[0;32mIn[12], line 1\u001b[0;36m\u001b[0m\n\u001b[0;31m    <font size=\"4\">Dropped values accounted for <1 % of data\u001b[0m\n\u001b[0m    ^\u001b[0m\n\u001b[0;31mSyntaxError\u001b[0m\u001b[0;31m:\u001b[0m invalid syntax\n"
     ]
    }
   ],
   "source": [
    "<font size=\"4\">Dropped values accounted for <1 % of data"
   ]
  },
  {
   "cell_type": "code",
   "execution_count": 13,
   "metadata": {},
   "outputs": [
    {
     "data": {
      "text/plain": [
       "979"
      ]
     },
     "execution_count": 13,
     "metadata": {},
     "output_type": "execute_result"
    }
   ],
   "source": [
    "dataset.count()"
   ]
  },
  {
   "cell_type": "code",
   "execution_count": 14,
   "metadata": {},
   "outputs": [
    {
     "name": "stdout",
     "output_type": "stream",
     "text": [
      "+--------------------+-----+\n",
      "|        Primary Type|count|\n",
      "+--------------------+-----+\n",
      "|OFFENSE INVOLVING...|   15|\n",
      "|CRIMINAL SEXUAL A...|    8|\n",
      "|            STALKING|    4|\n",
      "|PUBLIC PEACE VIOL...|    2|\n",
      "|           OBSCENITY|    1|\n",
      "|               ARSON|    2|\n",
      "|   CRIMINAL TRESPASS|   18|\n",
      "|             ASSAULT|   90|\n",
      "| MOTOR VEHICLE THEFT|  103|\n",
      "|               THEFT|  209|\n",
      "|             BATTERY|  157|\n",
      "|             ROBBERY|   36|\n",
      "|            HOMICIDE|    5|\n",
      "|        PROSTITUTION|    3|\n",
      "|  DECEPTIVE PRACTICE|   64|\n",
      "|CONCEALED CARRY L...|    1|\n",
      "|         SEX OFFENSE|   15|\n",
      "|     CRIMINAL DAMAGE|  111|\n",
      "|           NARCOTICS|   12|\n",
      "|       OTHER OFFENSE|   55|\n",
      "|          KIDNAPPING|    2|\n",
      "|            BURGLARY|   35|\n",
      "|   WEAPONS VIOLATION|   30|\n",
      "|INTERFERENCE WITH...|    1|\n",
      "+--------------------+-----+\n",
      "\n"
     ]
    }
   ],
   "source": [
    "d=dataset.groupby('Primary Type').count()\n",
    "d.show(50)"
   ]
  },
  {
   "cell_type": "code",
   "execution_count": 15,
   "metadata": {},
   "outputs": [],
   "source": [
    "#dataset=dataset.filter((dataset['Year'] >2009) & (dataset['Year'] !=2020))"
   ]
  },
  {
   "cell_type": "code",
   "execution_count": 16,
   "metadata": {},
   "outputs": [
    {
     "name": "stdout",
     "output_type": "stream",
     "text": [
      "+--------------------+--------------------+--------------------+------+----+----+-----------+------------+\n",
      "|                Date|        Primary Type|Location Description|Arrest|Ward|Year|   Latitude|   Longitude|\n",
      "+--------------------+--------------------+--------------------+------+----+----+-----------+------------+\n",
      "|05/24/2021 03:06:...|            HOMICIDE|              STREET|  true|  36|2021|41.91783806|-87.75596897|\n",
      "|06/26/2021 09:24:...|            HOMICIDE|         PARKING LOT|  true|  50|2021|41.99521944|-87.71335491|\n",
      "|       11/09/23 7:30|            BURGLARY|           APARTMENT| false|  47|2023|41.95234509|-87.67797506|\n",
      "|       11/12/23 7:59|             BATTERY|  SMALL RETAIL STORE|  true|   6|2023|41.73775077|-87.60485591|\n",
      "|      09/06/23 17:00|     CRIMINAL DAMAGE|PARKING LOT / GAR...| false|  42|2023|41.88601806|-87.63393788|\n",
      "|       07/01/24 0:00|  DECEPTIVE PRACTICE|AIRPORT EXTERIOR ...| false|  41|2024|41.99491395|-87.88193767|\n",
      "|08/25/2024 08:21:...|            HOMICIDE|              STREET| false|  27|2024|41.89185127| -87.7105028|\n",
      "|       04/01/24 0:00|             BATTERY|           APARTMENT| false|  14|2024|41.78384449|-87.70084273|\n",
      "|03/24/2022 05:07:...| MOTOR VEHICLE THEFT|         GAS STATION| false|  34|2022|41.86684367|-87.62581667|\n",
      "|08/23/2024 06:00:...|             BATTERY|           APARTMENT|  true|   7|2024|41.75113362|-87.55894689|\n",
      "|08/24/2024 03:59:...|             BATTERY|           APARTMENT| false|   4|2024|41.81039168|-87.60391608|\n",
      "|08/14/2024 05:00:...|  DECEPTIVE PRACTICE|           APARTMENT| false|  31|2024|41.93128816|-87.76545055|\n",
      "|08/23/2024 12:00:...|  DECEPTIVE PRACTICE|     DAY CARE CENTER| false|  40|2024|41.99047805|-87.69296356|\n",
      "|      08/09/24 16:00|  DECEPTIVE PRACTICE|        CREDIT UNION| false|  34|2024| 41.8769047|-87.62904347|\n",
      "|08/31/2023 12:00:...|  DECEPTIVE PRACTICE|              STREET| false|  27|2023|41.87756511|-87.68479102|\n",
      "|07/24/2023 09:45:...|CRIMINAL SEXUAL A...|           APARTMENT| false|   7|2023| 41.7619185|-87.57620925|\n",
      "|08/27/2023 07:00:...|               THEFT|           APARTMENT| false|  30|2023|41.94337853| -87.7199738|\n",
      "|      09/04/23 21:30|     CRIMINAL DAMAGE|  RESIDENCE - GARAGE| false|  14|2023|41.79647741|-87.70854092|\n",
      "|08/15/2023 02:20:...|               THEFT|RESIDENCE - PORCH...| false|  18|2023| 41.7526888|-87.70490879|\n",
      "|07/24/2023 04:09:...|  DECEPTIVE PRACTICE|   CURRENCY EXCHANGE| false|   6|2023|41.75812617|-87.63158251|\n",
      "|      09/03/23 10:27|               THEFT|           APARTMENT| false|  21|2023|41.73149773|-87.65807457|\n",
      "|08/17/2023 07:00:...|               THEFT|              STREET| false|  17|2023|41.76482708|-87.67170912|\n",
      "|08/24/2023 02:27:...|  DECEPTIVE PRACTICE|   CURRENCY EXCHANGE| false|  11|2023|41.83765193|-87.64140409|\n",
      "|      08/11/23 11:00|OFFENSE INVOLVING...|           RESIDENCE| false|  28|2023|41.88059439|-87.70295942|\n",
      "|       11/11/23 0:00| MOTOR VEHICLE THEFT|              STREET| false|  28|2023|41.88077908|-87.72137703|\n",
      "|       11/10/23 5:30|               THEFT|PARKING LOT / GAR...| false|  29|2023|41.91518726|-87.77542523|\n",
      "|      11/03/23 12:00|  DECEPTIVE PRACTICE|           APARTMENT| false|  46|2023|41.95203631|-87.64628188|\n",
      "|      11/10/23 17:30| MOTOR VEHICLE THEFT|              STREET| false|  37|2023|41.89888459| -87.7341962|\n",
      "|      11/10/23 20:28| MOTOR VEHICLE THEFT|              STREET| false|  10|2023|41.69997111|-87.53286642|\n",
      "|      11/10/23 12:15|             ROBBERY|              STREET| false|  26|2023|41.89850206|-87.69924242|\n",
      "|      11/10/23 11:00|             ASSAULT|           APARTMENT| false|  21|2023|41.70595655|-87.64837349|\n",
      "|04/21/2019 12:30:...|             ROBBERY|           RESIDENCE| false|   8|2019|41.74950033| -87.6011574|\n",
      "|04/17/2021 03:20:...|             ROBBERY|           RESIDENCE|  true|   6|2021|41.74662631|-87.61803195|\n",
      "|01/14/2022 03:55:...|       OTHER OFFENSE|           RESIDENCE| false|  16|2022|41.77178244|-87.64943693|\n",
      "|01/13/2022 04:00:...|OFFENSE INVOLVING...|           RESIDENCE| false|  36|2022|41.89920607|-87.70550559|\n",
      "|      08/05/22 21:00|         SEX OFFENSE|           APARTMENT|  true|   5|2022|41.76333797|-87.59700113|\n",
      "|08/14/2022 02:00:...|         SEX OFFENSE|           RESIDENCE| false|  39|2022|41.98587528|-87.76640386|\n",
      "|       11/10/22 3:47|   WEAPONS VIOLATION|              STREET| false|  17|2022|41.76261474|-87.65284046|\n",
      "|08/17/2019 01:14:...|OFFENSE INVOLVING...|           RESIDENCE|  true|  37|2019|41.89621515|-87.72857205|\n",
      "|03/30/2023 09:16:...|         SEX OFFENSE|           APARTMENT| false|   8|2023| 41.7486538|-87.60268049|\n",
      "|      05/10/23 12:43|OFFENSE INVOLVING...|           RESIDENCE| false|  30|2023|41.93201543|-87.76991667|\n",
      "|      04/01/23 11:13|OFFENSE INVOLVING...|           RESIDENCE| false|  26|2023|41.91756278|-87.74982812|\n",
      "|06/22/2023 06:52:...|  DECEPTIVE PRACTICE|AUTO / BOAT / RV ...|  true|   1|2023|41.91065261|-87.66614577|\n",
      "|      07/04/23 17:30| MOTOR VEHICLE THEFT|              STREET|  true|   3|2023|41.80890316|-87.61813919|\n",
      "|       11/09/18 0:00|CRIMINAL SEXUAL A...|           RESIDENCE| false|  29|2018|41.91157425|-87.78997228|\n",
      "|      02/01/23 14:00|         SEX OFFENSE|           APARTMENT|  true|  20|2023|41.78826455|-87.62229949|\n",
      "|08/17/2023 03:15:...|               THEFT|    DEPARTMENT STORE|  true|   1|2023|41.91765602|-87.68875026|\n",
      "|08/17/2023 07:25:...|               THEFT|              STREET|  true|  35|2023|41.93588316|-87.71621965|\n",
      "|08/20/2023 04:30:...|     CRIMINAL DAMAGE|           RESIDENCE|  true|  36|2023|41.91779013|-87.75462463|\n",
      "|08/20/2023 06:00:...|               THEFT|              STREET|  true|  26|2023|41.91750674|-87.75339264|\n",
      "+--------------------+--------------------+--------------------+------+----+----+-----------+------------+\n",
      "only showing top 50 rows\n",
      "\n"
     ]
    }
   ],
   "source": [
    "dataset_new=dataset.filter((dataset['Primary Type']!='STALKING')&\n",
    "                             (dataset['Primary Type']!='OBSCENITY')&\n",
    "                             (dataset['Primary Type']!='NON-CRIMINAL (SUBJECT SPECIFIED)')&\n",
    "                             (dataset['Primary Type']!='GAMBLING')&\n",
    "                             (dataset['Primary Type']!='NON - CRIMINAL')&\n",
    "                             (dataset['Primary Type']!='LIQUOR LAW VIOLATION')&\n",
    "                             (dataset['Primary Type']!='PUBLIC INDECENCY')&\n",
    "                             (dataset['Primary Type']!='HUMAN TRAFFICKING')&\n",
    "                             (dataset['Primary Type']!='INTIMIDATION')&\n",
    "                             (dataset['Primary Type']!='CONCEALED CARRY LICENSE VIOLATION')&\n",
    "                             (dataset['Primary Type']!='NON-CRIMINAL')&\n",
    "                             (dataset['Primary Type']!='OTHER NARCOTIC VIOLATION'))\n",
    "dataset_new.show(50)                             "
   ]
  },
  {
   "cell_type": "code",
   "execution_count": 17,
   "metadata": {},
   "outputs": [
    {
     "name": "stdout",
     "output_type": "stream",
     "text": [
      "+--------------------+--------------------+--------------------+------+----+----+-----------+------------+\n",
      "|                Date|        Primary Type|Location Description|Arrest|Ward|Year|   Latitude|   Longitude|\n",
      "+--------------------+--------------------+--------------------+------+----+----+-----------+------------+\n",
      "|05/24/2021 03:06:...|            HOMICIDE|              STREET|  true|  36|2021|41.91783806|-87.75596897|\n",
      "|06/26/2021 09:24:...|            HOMICIDE|         PARKING LOT|  true|  50|2021|41.99521944|-87.71335491|\n",
      "|       11/09/23 7:30|            BURGLARY|           APARTMENT| false|  47|2023|41.95234509|-87.67797506|\n",
      "|       11/12/23 7:59|             BATTERY|  SMALL RETAIL STORE|  true|   6|2023|41.73775077|-87.60485591|\n",
      "|      09/06/23 17:00|     CRIMINAL DAMAGE|PARKING LOT / GAR...| false|  42|2023|41.88601806|-87.63393788|\n",
      "|       07/01/24 0:00|  DECEPTIVE PRACTICE|AIRPORT EXTERIOR ...| false|  41|2024|41.99491395|-87.88193767|\n",
      "|08/25/2024 08:21:...|            HOMICIDE|              STREET| false|  27|2024|41.89185127| -87.7105028|\n",
      "|       04/01/24 0:00|             BATTERY|           APARTMENT| false|  14|2024|41.78384449|-87.70084273|\n",
      "|03/24/2022 05:07:...| MOTOR VEHICLE THEFT|         GAS STATION| false|  34|2022|41.86684367|-87.62581667|\n",
      "|08/23/2024 06:00:...|             BATTERY|           APARTMENT|  true|   7|2024|41.75113362|-87.55894689|\n",
      "|08/24/2024 03:59:...|             BATTERY|           APARTMENT| false|   4|2024|41.81039168|-87.60391608|\n",
      "|08/14/2024 05:00:...|  DECEPTIVE PRACTICE|           APARTMENT| false|  31|2024|41.93128816|-87.76545055|\n",
      "|08/23/2024 12:00:...|  DECEPTIVE PRACTICE|     DAY CARE CENTER| false|  40|2024|41.99047805|-87.69296356|\n",
      "|      08/09/24 16:00|  DECEPTIVE PRACTICE|        CREDIT UNION| false|  34|2024| 41.8769047|-87.62904347|\n",
      "|08/31/2023 12:00:...|  DECEPTIVE PRACTICE|              STREET| false|  27|2023|41.87756511|-87.68479102|\n",
      "|07/24/2023 09:45:...|CRIMINAL SEXUAL A...|           APARTMENT| false|   7|2023| 41.7619185|-87.57620925|\n",
      "|08/27/2023 07:00:...|               THEFT|           APARTMENT| false|  30|2023|41.94337853| -87.7199738|\n",
      "|      09/04/23 21:30|     CRIMINAL DAMAGE|  RESIDENCE - GARAGE| false|  14|2023|41.79647741|-87.70854092|\n",
      "|08/15/2023 02:20:...|               THEFT|RESIDENCE - PORCH...| false|  18|2023| 41.7526888|-87.70490879|\n",
      "|07/24/2023 04:09:...|  DECEPTIVE PRACTICE|   CURRENCY EXCHANGE| false|   6|2023|41.75812617|-87.63158251|\n",
      "+--------------------+--------------------+--------------------+------+----+----+-----------+------------+\n",
      "only showing top 20 rows\n",
      "\n"
     ]
    }
   ],
   "source": [
    "dataset_new_1 = dataset_new.withColumn(\"Primary Type\", \\\n",
    "                               when((dataset_new[\"Primary Type\"] == 'CRIM SEXUAL ASSAULT') | \\\n",
    "                                    (dataset_new[\"Primary Type\"] == 'PROSTITUTION') ,'SEX OFFENSE').otherwise(dataset_new['Primary Type']))\n",
    "dataset_new_1=dataset_new_1.withColumn(\"Primary Type\", \\\n",
    "                               when((dataset_new_1[\"Primary Type\"] == 'WEAPONS VIOLATION') | \\\n",
    "                                    (dataset_new_1[\"Primary Type\"] == 'INTERFERENCE WITH PUBLIC OFFICER') ,'PUBLIC PEACE VIOLATION').otherwise(dataset_new_1['Primary Type']))\n",
    "dataset_new_1=dataset_new_1.withColumn(\"Primary Type\", \\\n",
    "                               when((dataset_new_1[\"Primary Type\"] == 'ARSON') ,'CRIMINAL TRESPASS').otherwise(dataset_new_1['Primary Type']))\n",
    "dataset_new_1.show()"
   ]
  },
  {
   "cell_type": "code",
   "execution_count": 18,
   "metadata": {},
   "outputs": [
    {
     "name": "stdout",
     "output_type": "stream",
     "text": [
      "+--------------------+-----+\n",
      "|Location Description|count|\n",
      "+--------------------+-----+\n",
      "|AIRPORT TERMINAL ...|    1|\n",
      "|VEHICLE - COMMERCIAL|    1|\n",
      "|RESIDENCE - YARD ...|   16|\n",
      "|CHA PARKING LOT /...|    3|\n",
      "|            SIDEWALK|   28|\n",
      "|OTHER RAILROAD PR...|    1|\n",
      "|            CAR WASH|    3|\n",
      "|         CTA STATION|    3|\n",
      "|            CEMETARY|    1|\n",
      "|TAVERN / LIQUOR S...|    2|\n",
      "|PARKING LOT / GAR...|   48|\n",
      "|RESIDENCE - PORCH...|   16|\n",
      "|     APPLIANCE STORE|    1|\n",
      "|           WAREHOUSE|    2|\n",
      "|AIRPORT EXTERIOR ...|    1|\n",
      "|AIRPORT TERMINAL ...|    2|\n",
      "|        CTA PLATFORM|    2|\n",
      "|                BANK|    3|\n",
      "|  GROCERY FOOD STORE|    5|\n",
      "|         CHA GROUNDS|    1|\n",
      "+--------------------+-----+\n",
      "only showing top 20 rows\n",
      "\n"
     ]
    }
   ],
   "source": [
    "d=dataset_new_1.groupby('Location Description').count()\n",
    "d.show()"
   ]
  },
  {
   "cell_type": "code",
   "execution_count": 19,
   "metadata": {},
   "outputs": [],
   "source": [
    "dataset_new_1.repartition(1).write.csv('my_csv2',mode=\"append\",header=True)"
   ]
  },
  {
   "cell_type": "code",
   "execution_count": null,
   "metadata": {},
   "outputs": [],
   "source": []
  }
 ],
 "metadata": {
  "kernelspec": {
   "display_name": "Python 3",
   "language": "python",
   "name": "python3"
  },
  "language_info": {
   "codemirror_mode": {
    "name": "ipython",
    "version": 3
   },
   "file_extension": ".py",
   "mimetype": "text/x-python",
   "name": "python",
   "nbconvert_exporter": "python",
   "pygments_lexer": "ipython3",
   "version": "3.12.0"
  }
 },
 "nbformat": 4,
 "nbformat_minor": 2
}
