{
 "cells": [
  {
   "cell_type": "code",
   "execution_count": 1,
   "metadata": {},
   "outputs": [],
   "source": [
    "import os\n",
    "#spark imports\n",
    "from pyspark import SparkContext\n",
    "from pyspark.sql import SparkSession\n",
    "from pyspark.sql import DataFrame\n",
    "import csv\n",
    "from pyspark.sql.types import *\n",
    "from pyspark.sql.functions import format_number, when\n",
    "import pandas as pd\n",
    "import matplotlib.pyplot as plt"
   ]
  },
  {
   "cell_type": "code",
   "execution_count": 2,
   "metadata": {},
   "outputs": [
    {
     "name": "stderr",
     "output_type": "stream",
     "text": [
      "Setting default log level to \"WARN\".\n",
      "To adjust logging level use sc.setLogLevel(newLevel). For SparkR, use setLogLevel(newLevel).\n",
      "24/12/03 15:05:20 WARN NativeCodeLoader: Unable to load native-hadoop library for your platform... using builtin-java classes where applicable\n",
      "24/12/03 15:05:21 WARN Utils: Service 'SparkUI' could not bind on port 4040. Attempting port 4041.\n",
      "24/12/03 15:05:21 WARN Utils: Service 'SparkUI' could not bind on port 4041. Attempting port 4042.\n"
     ]
    }
   ],
   "source": [
    "#change RAM allocation, current = 8GB\n",
    "#change Core allocation, current = 3 Cores\n",
    "\n",
    "spark = SparkSession.builder.appName(\"Project - Chicago crime\")\\\n",
    ".config(\"spark.some.config.option\", \"some-value\")\\\n",
    ".config(\"spark.driver.memory\", \"8g\")\\\n",
    ".config(\"spark.driver.cores\", '3')\\\n",
    ".getOrCreate()\n"
   ]
  },
  {
   "cell_type": "code",
   "execution_count": 3,
   "metadata": {},
   "outputs": [],
   "source": [
    "crimes_schema = StructType([StructField(\"ID\", StringType(), True),\n",
    "                            StructField(\"Case Number\", StringType(), True),\n",
    "                            StructField(\"Date\", StringType(), True ),\n",
    "                            StructField(\"Block\", StringType(), True),\n",
    "                            StructField(\"IUCR\", StringType(), True),\n",
    "                            StructField(\"Primary Type\", StringType(), True  ),\n",
    "                            StructField(\"Description\", StringType(), True ),\n",
    "                            StructField(\"Location Description\", StringType(), True ),\n",
    "                            StructField(\"Arrest\", BooleanType(), True),\n",
    "                            StructField(\"Domestic\", BooleanType(), True),\n",
    "                            StructField(\"Beat\", StringType(), True),\n",
    "                            StructField(\"District\", StringType(), True),\n",
    "                            StructField(\"Ward\", StringType(), True),\n",
    "                            StructField(\"Community Area\", StringType(), True),\n",
    "                            StructField(\"FBI Code\", StringType(), True ),\n",
    "                            StructField(\"X Coordinate\", DoubleType(), True),\n",
    "                            StructField(\"Y Coordinate\", DoubleType(), True ),\n",
    "                            StructField(\"Year\", IntegerType(), True),\n",
    "                            StructField(\"Updated On\", DateType(), True ),\n",
    "                            StructField(\"Latitude\", DoubleType(), True),\n",
    "                            StructField(\"Longitude\", DoubleType(), True),\n",
    "                            StructField(\"Location\", StringType(), True )\n",
    "                            ])"
   ]
  },
  {
   "cell_type": "code",
   "execution_count": 6,
   "metadata": {},
   "outputs": [],
   "source": [
    "#set your local dataset path\n",
    "dataSetPath = '/Users/sudiptabanerjee/Documents/Big Data Project/Chicago-crime-analysis/Data-Preprocessing/Crime-1.csv'"
   ]
  },
  {
   "cell_type": "code",
   "execution_count": 7,
   "metadata": {},
   "outputs": [],
   "source": [
    "dataset = spark.read.option(\"header\", \"True\")\\\n",
    "        .option(\"schema\", crimes_schema)\\\n",
    "        .csv(dataSetPath)"
   ]
  },
  {
   "cell_type": "markdown",
   "metadata": {},
   "source": [
    "### Have a look at the data schema:"
   ]
  },
  {
   "cell_type": "code",
   "execution_count": 8,
   "metadata": {
    "scrolled": false
   },
   "outputs": [
    {
     "data": {
      "text/html": [
       "<div>\n",
       "<style scoped>\n",
       "    .dataframe tbody tr th:only-of-type {\n",
       "        vertical-align: middle;\n",
       "    }\n",
       "\n",
       "    .dataframe tbody tr th {\n",
       "        vertical-align: top;\n",
       "    }\n",
       "\n",
       "    .dataframe thead th {\n",
       "        text-align: right;\n",
       "    }\n",
       "</style>\n",
       "<table border=\"1\" class=\"dataframe\">\n",
       "  <thead>\n",
       "    <tr style=\"text-align: right;\">\n",
       "      <th></th>\n",
       "      <th>ID</th>\n",
       "      <th>Case Number</th>\n",
       "      <th>Date</th>\n",
       "      <th>Block</th>\n",
       "      <th>IUCR</th>\n",
       "      <th>Primary Type</th>\n",
       "      <th>Description</th>\n",
       "      <th>Location Description</th>\n",
       "      <th>Arrest</th>\n",
       "      <th>Domestic</th>\n",
       "      <th>...</th>\n",
       "      <th>Ward</th>\n",
       "      <th>Community Area</th>\n",
       "      <th>FBI Code</th>\n",
       "      <th>X Coordinate</th>\n",
       "      <th>Y Coordinate</th>\n",
       "      <th>Year</th>\n",
       "      <th>Updated On</th>\n",
       "      <th>Latitude</th>\n",
       "      <th>Longitude</th>\n",
       "      <th>Location</th>\n",
       "    </tr>\n",
       "  </thead>\n",
       "  <tbody>\n",
       "    <tr>\n",
       "      <th>0</th>\n",
       "      <td>5741943</td>\n",
       "      <td>HN549294</td>\n",
       "      <td>08/25/2007 09:22:18 AM</td>\n",
       "      <td>074XX N ROGERS AVE</td>\n",
       "      <td>0560</td>\n",
       "      <td>ASSAULT</td>\n",
       "      <td>SIMPLE</td>\n",
       "      <td>OTHER</td>\n",
       "      <td>FALSE</td>\n",
       "      <td>FALSE</td>\n",
       "      <td>...</td>\n",
       "      <td>49</td>\n",
       "      <td>1</td>\n",
       "      <td>08A</td>\n",
       "      <td>None</td>\n",
       "      <td>None</td>\n",
       "      <td>2007</td>\n",
       "      <td>08/17/2015 03:03:40 PM</td>\n",
       "      <td>None</td>\n",
       "      <td>None</td>\n",
       "      <td>None</td>\n",
       "    </tr>\n",
       "    <tr>\n",
       "      <th>1</th>\n",
       "      <td>25953</td>\n",
       "      <td>JE240540</td>\n",
       "      <td>05/24/2021 03:06:00 PM</td>\n",
       "      <td>020XX N LARAMIE AVE</td>\n",
       "      <td>0110</td>\n",
       "      <td>HOMICIDE</td>\n",
       "      <td>FIRST DEGREE MURDER</td>\n",
       "      <td>STREET</td>\n",
       "      <td>TRUE</td>\n",
       "      <td>FALSE</td>\n",
       "      <td>...</td>\n",
       "      <td>36</td>\n",
       "      <td>19</td>\n",
       "      <td>01A</td>\n",
       "      <td>1141387</td>\n",
       "      <td>1913179</td>\n",
       "      <td>2021</td>\n",
       "      <td>11/18/2023 03:39:49 PM</td>\n",
       "      <td>41.91783806</td>\n",
       "      <td>-87.75596897</td>\n",
       "      <td>(41.917838056, -87.755968972)</td>\n",
       "    </tr>\n",
       "    <tr>\n",
       "      <th>2</th>\n",
       "      <td>26038</td>\n",
       "      <td>JE279849</td>\n",
       "      <td>06/26/2021 09:24:00 AM</td>\n",
       "      <td>062XX N MC CORMICK RD</td>\n",
       "      <td>0110</td>\n",
       "      <td>HOMICIDE</td>\n",
       "      <td>FIRST DEGREE MURDER</td>\n",
       "      <td>PARKING LOT</td>\n",
       "      <td>TRUE</td>\n",
       "      <td>FALSE</td>\n",
       "      <td>...</td>\n",
       "      <td>50</td>\n",
       "      <td>13</td>\n",
       "      <td>01A</td>\n",
       "      <td>1152781</td>\n",
       "      <td>1941458</td>\n",
       "      <td>2021</td>\n",
       "      <td>11/18/2023 03:39:49 PM</td>\n",
       "      <td>41.99521944</td>\n",
       "      <td>-87.71335491</td>\n",
       "      <td>(41.995219444, -87.713354912)</td>\n",
       "    </tr>\n",
       "    <tr>\n",
       "      <th>3</th>\n",
       "      <td>13279676</td>\n",
       "      <td>JG507211</td>\n",
       "      <td>11/09/23 7:30</td>\n",
       "      <td>019XX W BYRON ST</td>\n",
       "      <td>0620</td>\n",
       "      <td>BURGLARY</td>\n",
       "      <td>UNLAWFUL ENTRY</td>\n",
       "      <td>APARTMENT</td>\n",
       "      <td>FALSE</td>\n",
       "      <td>FALSE</td>\n",
       "      <td>...</td>\n",
       "      <td>47</td>\n",
       "      <td>5</td>\n",
       "      <td>05</td>\n",
       "      <td>1162518</td>\n",
       "      <td>1925906</td>\n",
       "      <td>2023</td>\n",
       "      <td>11/18/2023 03:39:49 PM</td>\n",
       "      <td>41.95234509</td>\n",
       "      <td>-87.67797506</td>\n",
       "      <td>(41.952345086, -87.677975059)</td>\n",
       "    </tr>\n",
       "    <tr>\n",
       "      <th>4</th>\n",
       "      <td>13274752</td>\n",
       "      <td>JG501049</td>\n",
       "      <td>11/12/23 7:59</td>\n",
       "      <td>086XX S COTTAGE GROVE AVE</td>\n",
       "      <td>0454</td>\n",
       "      <td>BATTERY</td>\n",
       "      <td>AGGRAVATED P.O. - HANDS, FISTS, FEET, NO / MIN...</td>\n",
       "      <td>SMALL RETAIL STORE</td>\n",
       "      <td>TRUE</td>\n",
       "      <td>FALSE</td>\n",
       "      <td>...</td>\n",
       "      <td>6</td>\n",
       "      <td>44</td>\n",
       "      <td>08B</td>\n",
       "      <td>1183071</td>\n",
       "      <td>1847869</td>\n",
       "      <td>2023</td>\n",
       "      <td>12/09/23 15:41</td>\n",
       "      <td>41.73775077</td>\n",
       "      <td>-87.60485591</td>\n",
       "      <td>(41.737750767, -87.604855911)</td>\n",
       "    </tr>\n",
       "  </tbody>\n",
       "</table>\n",
       "<p>5 rows × 22 columns</p>\n",
       "</div>"
      ],
      "text/plain": [
       "         ID Case Number                    Date                      Block  \\\n",
       "0   5741943    HN549294  08/25/2007 09:22:18 AM         074XX N ROGERS AVE   \n",
       "1     25953    JE240540  05/24/2021 03:06:00 PM        020XX N LARAMIE AVE   \n",
       "2     26038    JE279849  06/26/2021 09:24:00 AM      062XX N MC CORMICK RD   \n",
       "3  13279676    JG507211           11/09/23 7:30           019XX W BYRON ST   \n",
       "4  13274752    JG501049           11/12/23 7:59  086XX S COTTAGE GROVE AVE   \n",
       "\n",
       "   IUCR Primary Type                                        Description  \\\n",
       "0  0560      ASSAULT                                             SIMPLE   \n",
       "1  0110     HOMICIDE                                FIRST DEGREE MURDER   \n",
       "2  0110     HOMICIDE                                FIRST DEGREE MURDER   \n",
       "3  0620     BURGLARY                                     UNLAWFUL ENTRY   \n",
       "4  0454      BATTERY  AGGRAVATED P.O. - HANDS, FISTS, FEET, NO / MIN...   \n",
       "\n",
       "  Location Description Arrest Domestic  ... Ward Community Area FBI Code  \\\n",
       "0                OTHER  FALSE    FALSE  ...   49              1      08A   \n",
       "1               STREET   TRUE    FALSE  ...   36             19      01A   \n",
       "2          PARKING LOT   TRUE    FALSE  ...   50             13      01A   \n",
       "3            APARTMENT  FALSE    FALSE  ...   47              5       05   \n",
       "4   SMALL RETAIL STORE   TRUE    FALSE  ...    6             44      08B   \n",
       "\n",
       "  X Coordinate Y Coordinate  Year              Updated On     Latitude  \\\n",
       "0         None         None  2007  08/17/2015 03:03:40 PM         None   \n",
       "1      1141387      1913179  2021  11/18/2023 03:39:49 PM  41.91783806   \n",
       "2      1152781      1941458  2021  11/18/2023 03:39:49 PM  41.99521944   \n",
       "3      1162518      1925906  2023  11/18/2023 03:39:49 PM  41.95234509   \n",
       "4      1183071      1847869  2023          12/09/23 15:41  41.73775077   \n",
       "\n",
       "      Longitude                       Location  \n",
       "0          None                           None  \n",
       "1  -87.75596897  (41.917838056, -87.755968972)  \n",
       "2  -87.71335491  (41.995219444, -87.713354912)  \n",
       "3  -87.67797506  (41.952345086, -87.677975059)  \n",
       "4  -87.60485591  (41.737750767, -87.604855911)  \n",
       "\n",
       "[5 rows x 22 columns]"
      ]
     },
     "execution_count": 8,
     "metadata": {},
     "output_type": "execute_result"
    }
   ],
   "source": [
    "dataset.limit(20).toPandas().head()"
   ]
  },
  {
   "cell_type": "markdown",
   "metadata": {},
   "source": [
    "### Count the total number of instance before preprocessing:"
   ]
  },
  {
   "cell_type": "code",
   "execution_count": 9,
   "metadata": {},
   "outputs": [
    {
     "data": {
      "text/plain": [
       "999"
      ]
     },
     "execution_count": 9,
     "metadata": {},
     "output_type": "execute_result"
    }
   ],
   "source": [
    "dataset.count()"
   ]
  },
  {
   "cell_type": "markdown",
   "metadata": {},
   "source": [
    "### Drop the unused columns:"
   ]
  },
  {
   "cell_type": "code",
   "execution_count": 10,
   "metadata": {},
   "outputs": [],
   "source": [
    "dataset = dataset.drop('ID')\\\n",
    "            .drop('Case Number')\\\n",
    "            .drop('FBI Code')\\\n",
    "            .drop('Updated On')\\\n",
    "            .drop('IUCR')\\\n",
    "            .drop('X Coordinate')\\\n",
    "            .drop('Y Coordinate')\\\n",
    "            .drop('Location')"
   ]
  },
  {
   "cell_type": "markdown",
   "metadata": {},
   "source": [
    "### Drop all the instance that have null value, then count:"
   ]
  },
  {
   "cell_type": "code",
   "execution_count": 11,
   "metadata": {},
   "outputs": [
    {
     "data": {
      "text/plain": [
       "980"
      ]
     },
     "execution_count": 11,
     "metadata": {},
     "output_type": "execute_result"
    }
   ],
   "source": [
    "# Dropping some NA values for now\n",
    "dataset = dataset.na.drop()\n",
    "dataset.count()"
   ]
  },
  {
   "cell_type": "markdown",
   "metadata": {},
   "source": [
    "### Drop columns whos Lat, Long are outside Claifornia:"
   ]
  },
  {
   "cell_type": "code",
   "execution_count": 12,
   "metadata": {},
   "outputs": [],
   "source": [
    "dataset=dataset\\\n",
    "        .filter((dataset[\"Latitude\"] < 45)\n",
    "             & (dataset[\"Latitude\"] > 40)\n",
    "             & (dataset[\"Longitude\"] < -85)\n",
    "             & (dataset[\"Longitude\"] > -90))"
   ]
  },
  {
   "cell_type": "code",
   "execution_count": 13,
   "metadata": {},
   "outputs": [
    {
     "data": {
      "text/plain": [
       "980"
      ]
     },
     "execution_count": 13,
     "metadata": {},
     "output_type": "execute_result"
    }
   ],
   "source": [
    "dataset.count()"
   ]
  },
  {
   "cell_type": "code",
   "execution_count": null,
   "metadata": {},
   "outputs": [],
   "source": []
  }
 ],
 "metadata": {
  "kernelspec": {
   "display_name": "Python 3",
   "language": "python",
   "name": "python3"
  },
  "language_info": {
   "codemirror_mode": {
    "name": "ipython",
    "version": 3
   },
   "file_extension": ".py",
   "mimetype": "text/x-python",
   "name": "python",
   "nbconvert_exporter": "python",
   "pygments_lexer": "ipython3",
   "version": "3.12.0"
  }
 },
 "nbformat": 4,
 "nbformat_minor": 4
}
