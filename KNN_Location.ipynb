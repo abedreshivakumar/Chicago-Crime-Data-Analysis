{
  "cells": [
    {
      "cell_type": "code",
      "execution_count": 29,
      "metadata": {
        "colab": {},
        "colab_type": "code",
        "id": "jUYFZRkSRxgs"
      },
      "outputs": [
        {
          "name": "stdout",
          "output_type": "stream",
          "text": [
            "zsh:1: command not found: apt-get\n",
            "tar: Error opening archive: Unrecognized archive format\n"
          ]
        }
      ],
      "source": [
        "!apt-get install openjdk-8-jdk-headless -qq > /dev/null\n",
        "!wget -q https://www.apache.org/dyn/closer.lua/spark/spark-3.5.3/spark-3.5.3-bin-hadoop3.tgz\n",
        "!tar xf spark-3.5.3-bin-hadoop3.tgz\n",
        "!pip install -q findspark"
      ]
    },
    {
      "cell_type": "code",
      "execution_count": 55,
      "metadata": {
        "colab": {},
        "colab_type": "code",
        "id": "6RAA6Sl5SGCz"
      },
      "outputs": [],
      "source": [
        "import os\n",
        "os.environ[\"JAVA_HOME\"] = \"/Library/Java/JavaVirtualMachines/temurin-23.jdk/Contents/Home\"\n",
        "os.environ[\"SPARK_HOME\"] = \"'/Users/sudiptabanerjee/Documents/Big Data Project/Chicago-crime-analysis/spark-3.5.3-bin-hadoop3'\"\n"
      ]
    },
    {
      "cell_type": "code",
      "execution_count": 67,
      "metadata": {
        "colab": {},
        "colab_type": "code",
        "id": "C8tx_u3XSvMA"
      },
      "outputs": [
        {
          "name": "stderr",
          "output_type": "stream",
          "text": [
            "/Users/sudiptabanerjee/Documents/Big Data Project/Chicago-crime-analysis/spark-3.5.3-bin-hadoop3/bin/spark-class: line 71: /Library/Java/JavaVirtualMachines/temurin-8.jdk/Contents/Home/bin/java: No such file or directory\n",
            "/Users/sudiptabanerjee/Documents/Big Data Project/Chicago-crime-analysis/spark-3.5.3-bin-hadoop3/bin/spark-class: line 97: CMD: bad array subscript\n",
            "head: illegal line count -- -1\n"
          ]
        },
        {
          "ename": "PySparkRuntimeError",
          "evalue": "[JAVA_GATEWAY_EXITED] Java gateway process exited before sending its port number.",
          "output_type": "error",
          "traceback": [
            "\u001b[0;31m---------------------------------------------------------------------------\u001b[0m",
            "\u001b[0;31mPySparkRuntimeError\u001b[0m                       Traceback (most recent call last)",
            "Cell \u001b[0;32mIn[67], line 4\u001b[0m\n\u001b[1;32m      2\u001b[0m findspark\u001b[38;5;241m.\u001b[39minit()\n\u001b[1;32m      3\u001b[0m \u001b[38;5;28;01mfrom\u001b[39;00m \u001b[38;5;21;01mpyspark\u001b[39;00m\u001b[38;5;21;01m.\u001b[39;00m\u001b[38;5;21;01msql\u001b[39;00m \u001b[38;5;28;01mimport\u001b[39;00m SparkSession\n\u001b[0;32m----> 4\u001b[0m spark \u001b[38;5;241m=\u001b[39m \u001b[43mSparkSession\u001b[49m\u001b[38;5;241;43m.\u001b[39;49m\u001b[43mbuilder\u001b[49m\u001b[38;5;241;43m.\u001b[39;49m\u001b[43mmaster\u001b[49m\u001b[43m(\u001b[49m\u001b[38;5;124;43m\"\u001b[39;49m\u001b[38;5;124;43mlocal[*]\u001b[39;49m\u001b[38;5;124;43m\"\u001b[39;49m\u001b[43m)\u001b[49m\u001b[38;5;241;43m.\u001b[39;49m\u001b[43mgetOrCreate\u001b[49m\u001b[43m(\u001b[49m\u001b[43m)\u001b[49m\n",
            "File \u001b[0;32m~/Documents/Big Data Project/Chicago-crime-analysis/spark-3.5.3-bin-hadoop3/python/pyspark/sql/session.py:497\u001b[0m, in \u001b[0;36mSparkSession.Builder.getOrCreate\u001b[0;34m(self)\u001b[0m\n\u001b[1;32m    495\u001b[0m     sparkConf\u001b[38;5;241m.\u001b[39mset(key, value)\n\u001b[1;32m    496\u001b[0m \u001b[38;5;66;03m# This SparkContext may be an existing one.\u001b[39;00m\n\u001b[0;32m--> 497\u001b[0m sc \u001b[38;5;241m=\u001b[39m \u001b[43mSparkContext\u001b[49m\u001b[38;5;241;43m.\u001b[39;49m\u001b[43mgetOrCreate\u001b[49m\u001b[43m(\u001b[49m\u001b[43msparkConf\u001b[49m\u001b[43m)\u001b[49m\n\u001b[1;32m    498\u001b[0m \u001b[38;5;66;03m# Do not update `SparkConf` for existing `SparkContext`, as it's shared\u001b[39;00m\n\u001b[1;32m    499\u001b[0m \u001b[38;5;66;03m# by all sessions.\u001b[39;00m\n\u001b[1;32m    500\u001b[0m session \u001b[38;5;241m=\u001b[39m SparkSession(sc, options\u001b[38;5;241m=\u001b[39m\u001b[38;5;28mself\u001b[39m\u001b[38;5;241m.\u001b[39m_options)\n",
            "File \u001b[0;32m~/Documents/Big Data Project/Chicago-crime-analysis/spark-3.5.3-bin-hadoop3/python/pyspark/context.py:515\u001b[0m, in \u001b[0;36mSparkContext.getOrCreate\u001b[0;34m(cls, conf)\u001b[0m\n\u001b[1;32m    513\u001b[0m \u001b[38;5;28;01mwith\u001b[39;00m SparkContext\u001b[38;5;241m.\u001b[39m_lock:\n\u001b[1;32m    514\u001b[0m     \u001b[38;5;28;01mif\u001b[39;00m SparkContext\u001b[38;5;241m.\u001b[39m_active_spark_context \u001b[38;5;129;01mis\u001b[39;00m \u001b[38;5;28;01mNone\u001b[39;00m:\n\u001b[0;32m--> 515\u001b[0m         \u001b[43mSparkContext\u001b[49m\u001b[43m(\u001b[49m\u001b[43mconf\u001b[49m\u001b[38;5;241;43m=\u001b[39;49m\u001b[43mconf\u001b[49m\u001b[43m \u001b[49m\u001b[38;5;129;43;01mor\u001b[39;49;00m\u001b[43m \u001b[49m\u001b[43mSparkConf\u001b[49m\u001b[43m(\u001b[49m\u001b[43m)\u001b[49m\u001b[43m)\u001b[49m\n\u001b[1;32m    516\u001b[0m     \u001b[38;5;28;01massert\u001b[39;00m SparkContext\u001b[38;5;241m.\u001b[39m_active_spark_context \u001b[38;5;129;01mis\u001b[39;00m \u001b[38;5;129;01mnot\u001b[39;00m \u001b[38;5;28;01mNone\u001b[39;00m\n\u001b[1;32m    517\u001b[0m     \u001b[38;5;28;01mreturn\u001b[39;00m SparkContext\u001b[38;5;241m.\u001b[39m_active_spark_context\n",
            "File \u001b[0;32m~/Documents/Big Data Project/Chicago-crime-analysis/spark-3.5.3-bin-hadoop3/python/pyspark/context.py:201\u001b[0m, in \u001b[0;36mSparkContext.__init__\u001b[0;34m(self, master, appName, sparkHome, pyFiles, environment, batchSize, serializer, conf, gateway, jsc, profiler_cls, udf_profiler_cls, memory_profiler_cls)\u001b[0m\n\u001b[1;32m    195\u001b[0m \u001b[38;5;28;01mif\u001b[39;00m gateway \u001b[38;5;129;01mis\u001b[39;00m \u001b[38;5;129;01mnot\u001b[39;00m \u001b[38;5;28;01mNone\u001b[39;00m \u001b[38;5;129;01mand\u001b[39;00m gateway\u001b[38;5;241m.\u001b[39mgateway_parameters\u001b[38;5;241m.\u001b[39mauth_token \u001b[38;5;129;01mis\u001b[39;00m \u001b[38;5;28;01mNone\u001b[39;00m:\n\u001b[1;32m    196\u001b[0m     \u001b[38;5;28;01mraise\u001b[39;00m \u001b[38;5;167;01mValueError\u001b[39;00m(\n\u001b[1;32m    197\u001b[0m         \u001b[38;5;124m\"\u001b[39m\u001b[38;5;124mYou are trying to pass an insecure Py4j gateway to Spark. This\u001b[39m\u001b[38;5;124m\"\u001b[39m\n\u001b[1;32m    198\u001b[0m         \u001b[38;5;124m\"\u001b[39m\u001b[38;5;124m is not allowed as it is a security risk.\u001b[39m\u001b[38;5;124m\"\u001b[39m\n\u001b[1;32m    199\u001b[0m     )\n\u001b[0;32m--> 201\u001b[0m \u001b[43mSparkContext\u001b[49m\u001b[38;5;241;43m.\u001b[39;49m\u001b[43m_ensure_initialized\u001b[49m\u001b[43m(\u001b[49m\u001b[38;5;28;43mself\u001b[39;49m\u001b[43m,\u001b[49m\u001b[43m \u001b[49m\u001b[43mgateway\u001b[49m\u001b[38;5;241;43m=\u001b[39;49m\u001b[43mgateway\u001b[49m\u001b[43m,\u001b[49m\u001b[43m \u001b[49m\u001b[43mconf\u001b[49m\u001b[38;5;241;43m=\u001b[39;49m\u001b[43mconf\u001b[49m\u001b[43m)\u001b[49m\n\u001b[1;32m    202\u001b[0m \u001b[38;5;28;01mtry\u001b[39;00m:\n\u001b[1;32m    203\u001b[0m     \u001b[38;5;28mself\u001b[39m\u001b[38;5;241m.\u001b[39m_do_init(\n\u001b[1;32m    204\u001b[0m         master,\n\u001b[1;32m    205\u001b[0m         appName,\n\u001b[0;32m   (...)\u001b[0m\n\u001b[1;32m    215\u001b[0m         memory_profiler_cls,\n\u001b[1;32m    216\u001b[0m     )\n",
            "File \u001b[0;32m~/Documents/Big Data Project/Chicago-crime-analysis/spark-3.5.3-bin-hadoop3/python/pyspark/context.py:436\u001b[0m, in \u001b[0;36mSparkContext._ensure_initialized\u001b[0;34m(cls, instance, gateway, conf)\u001b[0m\n\u001b[1;32m    434\u001b[0m \u001b[38;5;28;01mwith\u001b[39;00m SparkContext\u001b[38;5;241m.\u001b[39m_lock:\n\u001b[1;32m    435\u001b[0m     \u001b[38;5;28;01mif\u001b[39;00m \u001b[38;5;129;01mnot\u001b[39;00m SparkContext\u001b[38;5;241m.\u001b[39m_gateway:\n\u001b[0;32m--> 436\u001b[0m         SparkContext\u001b[38;5;241m.\u001b[39m_gateway \u001b[38;5;241m=\u001b[39m gateway \u001b[38;5;129;01mor\u001b[39;00m \u001b[43mlaunch_gateway\u001b[49m\u001b[43m(\u001b[49m\u001b[43mconf\u001b[49m\u001b[43m)\u001b[49m\n\u001b[1;32m    437\u001b[0m         SparkContext\u001b[38;5;241m.\u001b[39m_jvm \u001b[38;5;241m=\u001b[39m SparkContext\u001b[38;5;241m.\u001b[39m_gateway\u001b[38;5;241m.\u001b[39mjvm\n\u001b[1;32m    439\u001b[0m     \u001b[38;5;28;01mif\u001b[39;00m instance:\n",
            "File \u001b[0;32m~/Documents/Big Data Project/Chicago-crime-analysis/spark-3.5.3-bin-hadoop3/python/pyspark/java_gateway.py:107\u001b[0m, in \u001b[0;36mlaunch_gateway\u001b[0;34m(conf, popen_kwargs)\u001b[0m\n\u001b[1;32m    104\u001b[0m     time\u001b[38;5;241m.\u001b[39msleep(\u001b[38;5;241m0.1\u001b[39m)\n\u001b[1;32m    106\u001b[0m \u001b[38;5;28;01mif\u001b[39;00m \u001b[38;5;129;01mnot\u001b[39;00m os\u001b[38;5;241m.\u001b[39mpath\u001b[38;5;241m.\u001b[39misfile(conn_info_file):\n\u001b[0;32m--> 107\u001b[0m     \u001b[38;5;28;01mraise\u001b[39;00m PySparkRuntimeError(\n\u001b[1;32m    108\u001b[0m         error_class\u001b[38;5;241m=\u001b[39m\u001b[38;5;124m\"\u001b[39m\u001b[38;5;124mJAVA_GATEWAY_EXITED\u001b[39m\u001b[38;5;124m\"\u001b[39m,\n\u001b[1;32m    109\u001b[0m         message_parameters\u001b[38;5;241m=\u001b[39m{},\n\u001b[1;32m    110\u001b[0m     )\n\u001b[1;32m    112\u001b[0m \u001b[38;5;28;01mwith\u001b[39;00m \u001b[38;5;28mopen\u001b[39m(conn_info_file, \u001b[38;5;124m\"\u001b[39m\u001b[38;5;124mrb\u001b[39m\u001b[38;5;124m\"\u001b[39m) \u001b[38;5;28;01mas\u001b[39;00m info:\n\u001b[1;32m    113\u001b[0m     gateway_port \u001b[38;5;241m=\u001b[39m read_int(info)\n",
            "\u001b[0;31mPySparkRuntimeError\u001b[0m: [JAVA_GATEWAY_EXITED] Java gateway process exited before sending its port number."
          ]
        }
      ],
      "source": [
        "import findspark\n",
        "findspark.init()\n",
        "from pyspark.sql import SparkSession\n",
        "spark = SparkSession.builder.master(\"local[*]\").getOrCreate()"
      ]
    },
    {
      "cell_type": "code",
      "execution_count": 57,
      "metadata": {},
      "outputs": [
        {
          "name": "stdout",
          "output_type": "stream",
          "text": [
            "Python Version: 3.10.11 (v3.10.11:7d4cc5aa85, Apr  4 2023, 19:05:19) [Clang 13.0.0 (clang-1300.0.29.30)]\n",
            "Platform: macOS-15.0.1-arm64-arm-64bit\n",
            "Architecture: arm64\n"
          ]
        },
        {
          "name": "stderr",
          "output_type": "stream",
          "text": [
            "/Users/sudiptabanerjee/Documents/Big Data Project/Chicago-crime-analysis/spark-3.5.3-bin-hadoop3/bin/spark-class: line 71: /Library/Java/JavaVirtualMachines/temurin-8.jdk/Contents/Home/bin/java: No such file or directory\n",
            "/Users/sudiptabanerjee/Documents/Big Data Project/Chicago-crime-analysis/spark-3.5.3-bin-hadoop3/bin/spark-class: line 97: CMD: bad array subscript\n",
            "head: illegal line count -- -1\n"
          ]
        },
        {
          "ename": "PySparkRuntimeError",
          "evalue": "[JAVA_GATEWAY_EXITED] Java gateway process exited before sending its port number.",
          "output_type": "error",
          "traceback": [
            "\u001b[0;31m---------------------------------------------------------------------------\u001b[0m",
            "\u001b[0;31mPySparkRuntimeError\u001b[0m                       Traceback (most recent call last)",
            "Cell \u001b[0;32mIn[57], line 32\u001b[0m\n\u001b[1;32m     21\u001b[0m \u001b[38;5;28;01mfrom\u001b[39;00m \u001b[38;5;21;01mpyspark\u001b[39;00m\u001b[38;5;21;01m.\u001b[39;00m\u001b[38;5;21;01msql\u001b[39;00m \u001b[38;5;28;01mimport\u001b[39;00m SparkSession\n\u001b[1;32m     23\u001b[0m \u001b[38;5;66;03m# Comprehensive Spark Session configuration\u001b[39;00m\n\u001b[1;32m     24\u001b[0m spark \u001b[38;5;241m=\u001b[39m \u001b[43mSparkSession\u001b[49m\u001b[38;5;241;43m.\u001b[39;49m\u001b[43mbuilder\u001b[49m\u001b[43m \u001b[49m\u001b[43m\\\u001b[49m\n\u001b[1;32m     25\u001b[0m \u001b[43m    \u001b[49m\u001b[38;5;241;43m.\u001b[39;49m\u001b[43mmaster\u001b[49m\u001b[43m(\u001b[49m\u001b[38;5;124;43m\"\u001b[39;49m\u001b[38;5;124;43mlocal[*]\u001b[39;49m\u001b[38;5;124;43m\"\u001b[39;49m\u001b[43m)\u001b[49m\u001b[43m \u001b[49m\u001b[43m\\\u001b[49m\n\u001b[1;32m     26\u001b[0m \u001b[43m    \u001b[49m\u001b[38;5;241;43m.\u001b[39;49m\u001b[43mappName\u001b[49m\u001b[43m(\u001b[49m\u001b[38;5;124;43m\"\u001b[39;49m\u001b[38;5;124;43mMyApp\u001b[39;49m\u001b[38;5;124;43m\"\u001b[39;49m\u001b[43m)\u001b[49m\u001b[43m \u001b[49m\u001b[43m\\\u001b[49m\n\u001b[1;32m     27\u001b[0m \u001b[43m    \u001b[49m\u001b[38;5;241;43m.\u001b[39;49m\u001b[43mconfig\u001b[49m\u001b[43m(\u001b[49m\u001b[38;5;124;43m\"\u001b[39;49m\u001b[38;5;124;43mspark.driver.host\u001b[39;49m\u001b[38;5;124;43m\"\u001b[39;49m\u001b[43m,\u001b[49m\u001b[43m \u001b[49m\u001b[38;5;124;43m\"\u001b[39;49m\u001b[38;5;124;43mlocalhost\u001b[39;49m\u001b[38;5;124;43m\"\u001b[39;49m\u001b[43m)\u001b[49m\u001b[43m \u001b[49m\u001b[43m\\\u001b[49m\n\u001b[1;32m     28\u001b[0m \u001b[43m    \u001b[49m\u001b[38;5;241;43m.\u001b[39;49m\u001b[43mconfig\u001b[49m\u001b[43m(\u001b[49m\u001b[38;5;124;43m\"\u001b[39;49m\u001b[38;5;124;43mspark.driver.bindAddress\u001b[39;49m\u001b[38;5;124;43m\"\u001b[39;49m\u001b[43m,\u001b[49m\u001b[43m \u001b[49m\u001b[38;5;124;43m\"\u001b[39;49m\u001b[38;5;124;43m127.0.0.1\u001b[39;49m\u001b[38;5;124;43m\"\u001b[39;49m\u001b[43m)\u001b[49m\u001b[43m \u001b[49m\u001b[43m\\\u001b[49m\n\u001b[1;32m     29\u001b[0m \u001b[43m    \u001b[49m\u001b[38;5;241;43m.\u001b[39;49m\u001b[43mconfig\u001b[49m\u001b[43m(\u001b[49m\u001b[38;5;124;43m\"\u001b[39;49m\u001b[38;5;124;43mspark.python.port\u001b[39;49m\u001b[38;5;124;43m\"\u001b[39;49m\u001b[43m,\u001b[49m\u001b[43m \u001b[49m\u001b[38;5;124;43m\"\u001b[39;49m\u001b[38;5;124;43m0\u001b[39;49m\u001b[38;5;124;43m\"\u001b[39;49m\u001b[43m)\u001b[49m\u001b[43m \u001b[49m\u001b[43m\\\u001b[49m\n\u001b[1;32m     30\u001b[0m \u001b[43m    \u001b[49m\u001b[38;5;241;43m.\u001b[39;49m\u001b[43mconfig\u001b[49m\u001b[43m(\u001b[49m\u001b[38;5;124;43m\"\u001b[39;49m\u001b[38;5;124;43mspark.driver.extraJavaOptions\u001b[39;49m\u001b[38;5;124;43m\"\u001b[39;49m\u001b[43m,\u001b[49m\u001b[43m \u001b[49m\u001b[38;5;124;43m\"\u001b[39;49m\u001b[38;5;124;43m-Dhdp.version=3.0\u001b[39;49m\u001b[38;5;124;43m\"\u001b[39;49m\u001b[43m)\u001b[49m\u001b[43m \u001b[49m\u001b[43m\\\u001b[49m\n\u001b[1;32m     31\u001b[0m \u001b[43m    \u001b[49m\u001b[38;5;241;43m.\u001b[39;49m\u001b[43mconfig\u001b[49m\u001b[43m(\u001b[49m\u001b[38;5;124;43m\"\u001b[39;49m\u001b[38;5;124;43mspark.sql.catalogImplementation\u001b[39;49m\u001b[38;5;124;43m\"\u001b[39;49m\u001b[43m,\u001b[49m\u001b[43m \u001b[49m\u001b[38;5;124;43m\"\u001b[39;49m\u001b[38;5;124;43mhive\u001b[39;49m\u001b[38;5;124;43m\"\u001b[39;49m\u001b[43m)\u001b[49m\u001b[43m \u001b[49m\u001b[43m\\\u001b[49m\n\u001b[0;32m---> 32\u001b[0m \u001b[43m    \u001b[49m\u001b[38;5;241;43m.\u001b[39;49m\u001b[43mgetOrCreate\u001b[49m\u001b[43m(\u001b[49m\u001b[43m)\u001b[49m\n\u001b[1;32m     34\u001b[0m \u001b[38;5;66;03m# Set log level to reduce warnings\u001b[39;00m\n\u001b[1;32m     35\u001b[0m spark\u001b[38;5;241m.\u001b[39msparkContext\u001b[38;5;241m.\u001b[39msetLogLevel(\u001b[38;5;124m\"\u001b[39m\u001b[38;5;124mERROR\u001b[39m\u001b[38;5;124m\"\u001b[39m)\n",
            "File \u001b[0;32m~/Documents/Big Data Project/Chicago-crime-analysis/spark-3.5.3-bin-hadoop3/python/pyspark/sql/session.py:497\u001b[0m, in \u001b[0;36mSparkSession.Builder.getOrCreate\u001b[0;34m(self)\u001b[0m\n\u001b[1;32m    495\u001b[0m     sparkConf\u001b[38;5;241m.\u001b[39mset(key, value)\n\u001b[1;32m    496\u001b[0m \u001b[38;5;66;03m# This SparkContext may be an existing one.\u001b[39;00m\n\u001b[0;32m--> 497\u001b[0m sc \u001b[38;5;241m=\u001b[39m \u001b[43mSparkContext\u001b[49m\u001b[38;5;241;43m.\u001b[39;49m\u001b[43mgetOrCreate\u001b[49m\u001b[43m(\u001b[49m\u001b[43msparkConf\u001b[49m\u001b[43m)\u001b[49m\n\u001b[1;32m    498\u001b[0m \u001b[38;5;66;03m# Do not update `SparkConf` for existing `SparkContext`, as it's shared\u001b[39;00m\n\u001b[1;32m    499\u001b[0m \u001b[38;5;66;03m# by all sessions.\u001b[39;00m\n\u001b[1;32m    500\u001b[0m session \u001b[38;5;241m=\u001b[39m SparkSession(sc, options\u001b[38;5;241m=\u001b[39m\u001b[38;5;28mself\u001b[39m\u001b[38;5;241m.\u001b[39m_options)\n",
            "File \u001b[0;32m~/Documents/Big Data Project/Chicago-crime-analysis/spark-3.5.3-bin-hadoop3/python/pyspark/context.py:515\u001b[0m, in \u001b[0;36mSparkContext.getOrCreate\u001b[0;34m(cls, conf)\u001b[0m\n\u001b[1;32m    513\u001b[0m \u001b[38;5;28;01mwith\u001b[39;00m SparkContext\u001b[38;5;241m.\u001b[39m_lock:\n\u001b[1;32m    514\u001b[0m     \u001b[38;5;28;01mif\u001b[39;00m SparkContext\u001b[38;5;241m.\u001b[39m_active_spark_context \u001b[38;5;129;01mis\u001b[39;00m \u001b[38;5;28;01mNone\u001b[39;00m:\n\u001b[0;32m--> 515\u001b[0m         \u001b[43mSparkContext\u001b[49m\u001b[43m(\u001b[49m\u001b[43mconf\u001b[49m\u001b[38;5;241;43m=\u001b[39;49m\u001b[43mconf\u001b[49m\u001b[43m \u001b[49m\u001b[38;5;129;43;01mor\u001b[39;49;00m\u001b[43m \u001b[49m\u001b[43mSparkConf\u001b[49m\u001b[43m(\u001b[49m\u001b[43m)\u001b[49m\u001b[43m)\u001b[49m\n\u001b[1;32m    516\u001b[0m     \u001b[38;5;28;01massert\u001b[39;00m SparkContext\u001b[38;5;241m.\u001b[39m_active_spark_context \u001b[38;5;129;01mis\u001b[39;00m \u001b[38;5;129;01mnot\u001b[39;00m \u001b[38;5;28;01mNone\u001b[39;00m\n\u001b[1;32m    517\u001b[0m     \u001b[38;5;28;01mreturn\u001b[39;00m SparkContext\u001b[38;5;241m.\u001b[39m_active_spark_context\n",
            "File \u001b[0;32m~/Documents/Big Data Project/Chicago-crime-analysis/spark-3.5.3-bin-hadoop3/python/pyspark/context.py:201\u001b[0m, in \u001b[0;36mSparkContext.__init__\u001b[0;34m(self, master, appName, sparkHome, pyFiles, environment, batchSize, serializer, conf, gateway, jsc, profiler_cls, udf_profiler_cls, memory_profiler_cls)\u001b[0m\n\u001b[1;32m    195\u001b[0m \u001b[38;5;28;01mif\u001b[39;00m gateway \u001b[38;5;129;01mis\u001b[39;00m \u001b[38;5;129;01mnot\u001b[39;00m \u001b[38;5;28;01mNone\u001b[39;00m \u001b[38;5;129;01mand\u001b[39;00m gateway\u001b[38;5;241m.\u001b[39mgateway_parameters\u001b[38;5;241m.\u001b[39mauth_token \u001b[38;5;129;01mis\u001b[39;00m \u001b[38;5;28;01mNone\u001b[39;00m:\n\u001b[1;32m    196\u001b[0m     \u001b[38;5;28;01mraise\u001b[39;00m \u001b[38;5;167;01mValueError\u001b[39;00m(\n\u001b[1;32m    197\u001b[0m         \u001b[38;5;124m\"\u001b[39m\u001b[38;5;124mYou are trying to pass an insecure Py4j gateway to Spark. This\u001b[39m\u001b[38;5;124m\"\u001b[39m\n\u001b[1;32m    198\u001b[0m         \u001b[38;5;124m\"\u001b[39m\u001b[38;5;124m is not allowed as it is a security risk.\u001b[39m\u001b[38;5;124m\"\u001b[39m\n\u001b[1;32m    199\u001b[0m     )\n\u001b[0;32m--> 201\u001b[0m \u001b[43mSparkContext\u001b[49m\u001b[38;5;241;43m.\u001b[39;49m\u001b[43m_ensure_initialized\u001b[49m\u001b[43m(\u001b[49m\u001b[38;5;28;43mself\u001b[39;49m\u001b[43m,\u001b[49m\u001b[43m \u001b[49m\u001b[43mgateway\u001b[49m\u001b[38;5;241;43m=\u001b[39;49m\u001b[43mgateway\u001b[49m\u001b[43m,\u001b[49m\u001b[43m \u001b[49m\u001b[43mconf\u001b[49m\u001b[38;5;241;43m=\u001b[39;49m\u001b[43mconf\u001b[49m\u001b[43m)\u001b[49m\n\u001b[1;32m    202\u001b[0m \u001b[38;5;28;01mtry\u001b[39;00m:\n\u001b[1;32m    203\u001b[0m     \u001b[38;5;28mself\u001b[39m\u001b[38;5;241m.\u001b[39m_do_init(\n\u001b[1;32m    204\u001b[0m         master,\n\u001b[1;32m    205\u001b[0m         appName,\n\u001b[0;32m   (...)\u001b[0m\n\u001b[1;32m    215\u001b[0m         memory_profiler_cls,\n\u001b[1;32m    216\u001b[0m     )\n",
            "File \u001b[0;32m~/Documents/Big Data Project/Chicago-crime-analysis/spark-3.5.3-bin-hadoop3/python/pyspark/context.py:436\u001b[0m, in \u001b[0;36mSparkContext._ensure_initialized\u001b[0;34m(cls, instance, gateway, conf)\u001b[0m\n\u001b[1;32m    434\u001b[0m \u001b[38;5;28;01mwith\u001b[39;00m SparkContext\u001b[38;5;241m.\u001b[39m_lock:\n\u001b[1;32m    435\u001b[0m     \u001b[38;5;28;01mif\u001b[39;00m \u001b[38;5;129;01mnot\u001b[39;00m SparkContext\u001b[38;5;241m.\u001b[39m_gateway:\n\u001b[0;32m--> 436\u001b[0m         SparkContext\u001b[38;5;241m.\u001b[39m_gateway \u001b[38;5;241m=\u001b[39m gateway \u001b[38;5;129;01mor\u001b[39;00m \u001b[43mlaunch_gateway\u001b[49m\u001b[43m(\u001b[49m\u001b[43mconf\u001b[49m\u001b[43m)\u001b[49m\n\u001b[1;32m    437\u001b[0m         SparkContext\u001b[38;5;241m.\u001b[39m_jvm \u001b[38;5;241m=\u001b[39m SparkContext\u001b[38;5;241m.\u001b[39m_gateway\u001b[38;5;241m.\u001b[39mjvm\n\u001b[1;32m    439\u001b[0m     \u001b[38;5;28;01mif\u001b[39;00m instance:\n",
            "File \u001b[0;32m~/Documents/Big Data Project/Chicago-crime-analysis/spark-3.5.3-bin-hadoop3/python/pyspark/java_gateway.py:107\u001b[0m, in \u001b[0;36mlaunch_gateway\u001b[0;34m(conf, popen_kwargs)\u001b[0m\n\u001b[1;32m    104\u001b[0m     time\u001b[38;5;241m.\u001b[39msleep(\u001b[38;5;241m0.1\u001b[39m)\n\u001b[1;32m    106\u001b[0m \u001b[38;5;28;01mif\u001b[39;00m \u001b[38;5;129;01mnot\u001b[39;00m os\u001b[38;5;241m.\u001b[39mpath\u001b[38;5;241m.\u001b[39misfile(conn_info_file):\n\u001b[0;32m--> 107\u001b[0m     \u001b[38;5;28;01mraise\u001b[39;00m PySparkRuntimeError(\n\u001b[1;32m    108\u001b[0m         error_class\u001b[38;5;241m=\u001b[39m\u001b[38;5;124m\"\u001b[39m\u001b[38;5;124mJAVA_GATEWAY_EXITED\u001b[39m\u001b[38;5;124m\"\u001b[39m,\n\u001b[1;32m    109\u001b[0m         message_parameters\u001b[38;5;241m=\u001b[39m{},\n\u001b[1;32m    110\u001b[0m     )\n\u001b[1;32m    112\u001b[0m \u001b[38;5;28;01mwith\u001b[39;00m \u001b[38;5;28mopen\u001b[39m(conn_info_file, \u001b[38;5;124m\"\u001b[39m\u001b[38;5;124mrb\u001b[39m\u001b[38;5;124m\"\u001b[39m) \u001b[38;5;28;01mas\u001b[39;00m info:\n\u001b[1;32m    113\u001b[0m     gateway_port \u001b[38;5;241m=\u001b[39m read_int(info)\n",
            "\u001b[0;31mPySparkRuntimeError\u001b[0m: [JAVA_GATEWAY_EXITED] Java gateway process exited before sending its port number."
          ]
        }
      ],
      "source": [
        "import os\n",
        "import sys\n",
        "import platform\n",
        "\n",
        "# Print system information\n",
        "print(f\"Python Version: {sys.version}\")\n",
        "print(f\"Platform: {platform.platform()}\")\n",
        "print(f\"Architecture: {platform.machine()}\")\n",
        "\n",
        "# Recommended setup for macOS (Apple Silicon)\n",
        "os.environ[\"JAVA_HOME\"] = \"/Library/Java/JavaVirtualMachines/temurin-8.jdk/Contents/Home\"\n",
        "os.environ[\"SPARK_HOME\"] = \"/Users/sudiptabanerjee/Documents/Big Data Project/Chicago-crime-analysis/spark-3.5.3-bin-hadoop3\"\n",
        "\n",
        "# Adjust Python path\n",
        "sys.path.append(os.path.join(os.environ[\"SPARK_HOME\"], \"python\"))\n",
        "sys.path.append(os.path.join(os.environ[\"SPARK_HOME\"], \"python/lib/py4j-0.10.9.5-src.zip\"))\n",
        "\n",
        "import findspark\n",
        "findspark.init()\n",
        "\n",
        "from pyspark.sql import SparkSession\n",
        "\n",
        "# Comprehensive Spark Session configuration\n",
        "spark = SparkSession.builder \\\n",
        "    .master(\"local[*]\") \\\n",
        "    .appName(\"MyApp\") \\\n",
        "    .config(\"spark.driver.host\", \"localhost\") \\\n",
        "    .config(\"spark.driver.bindAddress\", \"127.0.0.1\") \\\n",
        "    .config(\"spark.python.port\", \"0\") \\\n",
        "    .config(\"spark.driver.extraJavaOptions\", \"-Dhdp.version=3.0\") \\\n",
        "    .config(\"spark.sql.catalogImplementation\", \"hive\") \\\n",
        "    .getOrCreate()\n",
        "\n",
        "# Set log level to reduce warnings\n",
        "spark.sparkContext.setLogLevel(\"ERROR\")\n",
        "\n",
        "print(\"Spark Session created successfully!\")"
      ]
    },
    {
      "cell_type": "code",
      "execution_count": 58,
      "metadata": {
        "colab": {},
        "colab_type": "code",
        "id": "0wkWEhgTS4R5"
      },
      "outputs": [],
      "source": [
        "#spark imports\n",
        "from pyspark import SparkContext\n",
        "from pyspark.sql import SparkSession\n",
        "from pyspark.sql import DataFrame\n",
        "import csv\n",
        "from pyspark.sql.types import *\n",
        "from pyspark.sql.functions import format_number, when\n",
        "import pyspark.sql.functions as F"
      ]
    },
    {
      "cell_type": "code",
      "execution_count": 66,
      "metadata": {
        "colab": {
          "base_uri": "https://localhost:8080/",
          "height": 71
        },
        "colab_type": "code",
        "id": "WWW1sQ_SmnHR",
        "outputId": "2b7bc3a1-93dd-4a2b-e3b5-9fbae13e142e"
      },
      "outputs": [
        {
          "ename": "ModuleNotFoundError",
          "evalue": "No module named 'pandas'",
          "output_type": "error",
          "traceback": [
            "\u001b[0;31m---------------------------------------------------------------------------\u001b[0m",
            "\u001b[0;31mModuleNotFoundError\u001b[0m                       Traceback (most recent call last)",
            "Cell \u001b[0;32mIn[66], line 1\u001b[0m\n\u001b[0;32m----> 1\u001b[0m \u001b[38;5;28;01mimport\u001b[39;00m \u001b[38;5;21;01mpandas\u001b[39;00m \u001b[38;5;28;01mas\u001b[39;00m \u001b[38;5;21;01mpd\u001b[39;00m\n\u001b[1;32m      2\u001b[0m \u001b[38;5;28;01mimport\u001b[39;00m \u001b[38;5;21;01mmatplotlib\u001b[39;00m\u001b[38;5;21;01m.\u001b[39;00m\u001b[38;5;21;01mpyplot\u001b[39;00m \u001b[38;5;28;01mas\u001b[39;00m \u001b[38;5;21;01mplt\u001b[39;00m\n\u001b[1;32m      3\u001b[0m \u001b[38;5;28;01mimport\u001b[39;00m \u001b[38;5;21;01mseaborn\u001b[39;00m \u001b[38;5;28;01mas\u001b[39;00m \u001b[38;5;21;01msns\u001b[39;00m\n",
            "\u001b[0;31mModuleNotFoundError\u001b[0m: No module named 'pandas'"
          ]
        }
      ],
      "source": [
        "import pandas as pd\n",
        "import matplotlib.pyplot as plt\n",
        "import seaborn as sns\n",
        "import numpy as np\n",
        "\n",
        "from sklearn.model_selection import train_test_split, cross_val_score\n",
        "from sklearn.neighbors import KNeighborsClassifier\n",
        "from sklearn import metrics\n",
        "from sklearn.preprocessing import StandardScaler\n",
        "from sklearn.preprocessing import LabelEncoder"
      ]
    },
    {
      "cell_type": "code",
      "execution_count": null,
      "metadata": {
        "colab": {
          "base_uri": "https://localhost:8080/",
          "height": 34
        },
        "colab_type": "code",
        "id": "a_IJuPcoiMeW",
        "outputId": "f6fe7ed8-863f-4138-ddf4-02560318dd1e"
      },
      "outputs": [],
      "source": [
        "#test CPU type\n",
        "import tensorflow as tf\n",
        "tf.test.gpu_device_name()"
      ]
    },
    {
      "cell_type": "code",
      "execution_count": null,
      "metadata": {
        "colab": {},
        "colab_type": "code",
        "id": "lcLNCc297NzQ"
      },
      "outputs": [],
      "source": [
        "#change RAM allocation, current = 20GB\n",
        "#change Core allocation, current = 3 Cores\n",
        "\n",
        "spark = SparkSession.builder.appName(\"Project - Chicago crime\")\\\n",
        ".config(\"spark.some.config.option\", \"some-value\")\\\n",
        ".config(\"spark.driver.memory\", \"20g\")\\\n",
        ".config(\"spark.driver.cores\", '3')\\\n",
        ".getOrCreate()"
      ]
    },
    {
      "cell_type": "code",
      "execution_count": null,
      "metadata": {
        "colab": {
          "base_uri": "https://localhost:8080/",
          "height": 34
        },
        "colab_type": "code",
        "id": "u8jAl4MDzplO",
        "outputId": "b655e987-af95-448d-bc54-a28c18b52ae1"
      },
      "outputs": [],
      "source": [
        "from google.colab import drive\n",
        "drive.mount('/content/gdrive',force_remount=True)"
      ]
    },
    {
      "cell_type": "code",
      "execution_count": 37,
      "metadata": {
        "colab": {},
        "colab_type": "code",
        "id": "VhnN28da7YZm"
      },
      "outputs": [],
      "source": [
        "crimes_schema = StructType([StructField(\"ID\", IntegerType(), True),\n",
        "                            StructField(\"Case Number\", StringType(), True),\n",
        "                            StructField(\"Date\", StringType(), True ),\n",
        "                            StructField(\"Block\", StringType(), True),\n",
        "                            StructField(\"IUCR\", StringType(), True),\n",
        "                            StructField(\"Primary Type\", StringType(), True  ),\n",
        "                            StructField(\"Description\", StringType(), True ),\n",
        "                            StructField(\"Location Description\", StringType(), True ),\n",
        "                            StructField(\"Arrest\", BooleanType(), True),\n",
        "                            StructField(\"Domestic\", BooleanType(), True),\n",
        "                            StructField(\"Beat\", IntegerType(), True),\n",
        "                            StructField(\"District\", IntegerType(), True),\n",
        "                            StructField(\"Ward\", IntegerType(), True),\n",
        "                            StructField(\"Community Area\", IntegerType(), True),\n",
        "                            StructField(\"FBI Code\", StringType(), True ),\n",
        "                            StructField(\"X Coordinate\", IntegerType(), True),\n",
        "                            StructField(\"Y Coordinate\", IntegerType(), True ),\n",
        "                            StructField(\"Year\", IntegerType(), True),\n",
        "                            StructField(\"Updated On\", StringType(), True ),\n",
        "                            StructField(\"Latitude\", DoubleType(), True),\n",
        "                            StructField(\"Longitude\", DoubleType(), True),\n",
        "                            StructField(\"Location\", StringType(), True )\n",
        "                            ])"
      ]
    },
    {
      "cell_type": "code",
      "execution_count": null,
      "metadata": {
        "colab": {},
        "colab_type": "code",
        "id": "cpuUJg3qTuBr"
      },
      "outputs": [],
      "source": [
        "data = spark.read.csv('/Users/sudiptabanerjee/Documents/Big Data Project/Chicago-crime-analysis/Data-Preprocessing/Crime-1.csv',header = True,schema = crimes_schema)"
      ]
    },
    {
      "cell_type": "code",
      "execution_count": null,
      "metadata": {
        "colab": {
          "base_uri": "https://localhost:8080/",
          "height": 122
        },
        "colab_type": "code",
        "id": "NYi4kEyjj9Lm",
        "outputId": "5f275b2e-b5f5-4206-8979-cbb623686238"
      },
      "outputs": [],
      "source": [
        "data.head(5)"
      ]
    },
    {
      "cell_type": "markdown",
      "metadata": {
        "colab_type": "text",
        "id": "nHKAbOgD9PqE"
      },
      "source": [
        "# Data preprocessing - Spark"
      ]
    },
    {
      "cell_type": "markdown",
      "metadata": {
        "colab_type": "text",
        "id": "BzaC4w6y_We0"
      },
      "source": [
        "**Working on data starting 2010.**"
      ]
    },
    {
      "cell_type": "code",
      "execution_count": 0,
      "metadata": {
        "colab": {},
        "colab_type": "code",
        "id": "rkCO4QYi_QIk"
      },
      "outputs": [],
      "source": [
        "dataset = data.filter((data['Year'] >2009) & (data['Year'] !=2020))"
      ]
    },
    {
      "cell_type": "code",
      "execution_count": 0,
      "metadata": {
        "colab": {},
        "colab_type": "code",
        "id": "iITWfMSF9KI0"
      },
      "outputs": [],
      "source": [
        "#dropping columns which non-relative \n",
        "\n",
        "dataset = dataset.drop('ID')\n",
        "dataset = dataset.drop('Case Number')\n",
        "dataset = dataset.drop('FBI Code')\n",
        "dataset = dataset.drop('Updated On')\n",
        "dataset = dataset.drop('IUCR')# Could be useful - four digit codes that law enforcement agencies use to classify criminal incidents when taking individual reports.\n",
        "dataset = dataset.drop('X Coordinate')\n",
        "dataset = dataset.drop('Y Coordinate')\n",
        "dataset = dataset.drop('Location')\n",
        "dataset = dataset.drop('Description')\n",
        "dataset = dataset.drop('Domestic')"
      ]
    },
    {
      "cell_type": "markdown",
      "metadata": {
        "colab_type": "text",
        "id": "EWasgSY39ZFc"
      },
      "source": [
        "**Preprocessing Primary types**"
      ]
    },
    {
      "cell_type": "code",
      "execution_count": 0,
      "metadata": {
        "colab": {
          "base_uri": "https://localhost:8080/",
          "height": 459
        },
        "colab_type": "code",
        "id": "vCIRD2StyWiN",
        "outputId": "8202414d-3bd9-428c-80e7-3c180464015f"
      },
      "outputs": [],
      "source": [
        "primaryCount = dataset.groupby('Primary Type').count()\n",
        "primaryCount.orderBy('count', ascending=False).show()"
      ]
    },
    {
      "cell_type": "code",
      "execution_count": 0,
      "metadata": {
        "colab": {},
        "colab_type": "code",
        "id": "Vb9FYC51Y24_"
      },
      "outputs": [],
      "source": [
        "print('Distinct primary types '+ str(primaryCount.distinct().count()))"
      ]
    },
    {
      "cell_type": "markdown",
      "metadata": {
        "colab_type": "text",
        "id": "XSkptdhjABdF"
      },
      "source": [
        "**Drop crimes which are not so significant**"
      ]
    },
    {
      "cell_type": "code",
      "execution_count": 0,
      "metadata": {
        "colab": {},
        "colab_type": "code",
        "id": "ILpR-ndCMdp2"
      },
      "outputs": [],
      "source": [
        "dataset = dataset.filter((dataset['Primary Type']!='STALKING')&\n",
        "                             (dataset['Primary Type']!='OBSCENITY')&\n",
        "                             (dataset['Primary Type']!='NON-CRIMINAL (SUBJECT SPECIFIED)')&\n",
        "                             (dataset['Primary Type']!='GAMBLING')&\n",
        "                             (dataset['Primary Type']!='NON - CRIMINAL')&\n",
        "                             (dataset['Primary Type']!='LIQUOR LAW VIOLATION')&\n",
        "                             (dataset['Primary Type']!='PUBLIC INDECENCY')&\n",
        "                             (dataset['Primary Type']!='HUMAN TRAFFICKING')&\n",
        "                             (dataset['Primary Type']!='INTIMIDATION')&\n",
        "                             (dataset['Primary Type']!='CONCEALED CARRY LICENSE VIOLATION')&\n",
        "                             (dataset['Primary Type']!='NON-CRIMINAL')&\n",
        "                             (dataset['Primary Type']!='OTHER NARCOTIC VIOLATION'))"
      ]
    },
    {
      "cell_type": "markdown",
      "metadata": {
        "colab_type": "text",
        "id": "w6l0-AN8AffY"
      },
      "source": [
        "**Merging similar crime types**"
      ]
    },
    {
      "cell_type": "code",
      "execution_count": 0,
      "metadata": {
        "colab": {},
        "colab_type": "code",
        "id": "0Wf6mmo6Md4N"
      },
      "outputs": [],
      "source": [
        "dataset = dataset.withColumn(\"Primary Type\", \\\n",
        "                               when((dataset[\"Primary Type\"] == 'CRIM SEXUAL ASSAULT') | \\\n",
        "                                    (dataset[\"Primary Type\"] == 'PROSTITUTION') ,'SEX OFFENSE').otherwise(dataset['Primary Type']))\n",
        "dataset=dataset.withColumn(\"Primary Type\", \\\n",
        "                               when((dataset[\"Primary Type\"] == 'WEAPONS VIOLATION') | \\\n",
        "                                    (dataset[\"Primary Type\"] == 'INTERFERENCE WITH PUBLIC OFFICER') ,'PUBLIC PEACE VIOLATION').otherwise(dataset['Primary Type']))\n",
        "dataset=dataset.withColumn(\"Primary Type\", \\\n",
        "                               when((dataset[\"Primary Type\"] == 'ARSON') ,'CRIMINAL TRESPASS').otherwise(dataset['Primary Type']))\n"
      ]
    },
    {
      "cell_type": "code",
      "execution_count": 0,
      "metadata": {
        "colab": {
          "base_uri": "https://localhost:8080/",
          "height": 391
        },
        "colab_type": "code",
        "id": "ryT1U91lMeD8",
        "outputId": "864f6914-80ad-499e-cb00-873147524dbb"
      },
      "outputs": [],
      "source": [
        "primaryCount = dataset.groupby('Primary Type').count()\n",
        "primaryCount.orderBy('count', ascending=False).show()"
      ]
    },
    {
      "cell_type": "code",
      "execution_count": 0,
      "metadata": {
        "colab": {
          "base_uri": "https://localhost:8080/",
          "height": 34
        },
        "colab_type": "code",
        "id": "omiJd6kJZxkD",
        "outputId": "09f1457d-4f27-4d66-8242-f6c9ac05950c"
      },
      "outputs": [],
      "source": [
        "print('Distinct primary types after preprocessing '+ str(primaryCount.distinct().count()))"
      ]
    },
    {
      "cell_type": "markdown",
      "metadata": {
        "colab_type": "text",
        "id": "TQayyfY-BLlZ"
      },
      "source": [
        "**Extract Day, Month, Week from Date Column**"
      ]
    },
    {
      "cell_type": "code",
      "execution_count": 0,
      "metadata": {
        "colab": {
          "base_uri": "https://localhost:8080/",
          "height": 122
        },
        "colab_type": "code",
        "id": "okDarpGxBKln",
        "outputId": "d84a21fe-8e82-41eb-b0d4-c3c7cd7f7eb5"
      },
      "outputs": [],
      "source": [
        "dataset = dataset.withColumn(\"Day\", F.split(dataset.Date, \" \")[0])\n",
        "dataset = dataset.withColumn(\"Day\", F.to_date(dataset.Day, \"MM/dd/yyyy\"))\n",
        "dataset = dataset.withColumn(\"Month\", F.month(dataset.Day))\n",
        "dataset = dataset.withColumn(\"WeekDay\", F.dayofweek(dataset.Day))\n",
        "dataset = dataset.withColumn(\"Year\", F.year(dataset.Day))\n",
        "dataset = dataset.na.drop()\n",
        "dataset = dataset.drop('Date')\n",
        "dataset = dataset.drop('Day')\n",
        "dataset.head(5)"
      ]
    },
    {
      "cell_type": "markdown",
      "metadata": {
        "colab_type": "text",
        "id": "fRffsVR8Dq98"
      },
      "source": [
        "Ignore Latitude and Longitude outside Chichago"
      ]
    },
    {
      "cell_type": "code",
      "execution_count": 0,
      "metadata": {
        "colab": {},
        "colab_type": "code",
        "id": "APNhYAHODp_h"
      },
      "outputs": [],
      "source": [
        "dataset=dataset\\\n",
        "        .filter((dataset[\"Latitude\"] < 45)\n",
        "             & (dataset[\"Latitude\"] > 40)\n",
        "             & (dataset[\"Longitude\"] < -85)\n",
        "             & (dataset[\"Longitude\"] > -90))"
      ]
    },
    {
      "cell_type": "markdown",
      "metadata": {
        "colab_type": "text",
        "id": "4-cNdSzQC4Ip"
      },
      "source": [
        "**Dropping Null values in the data.**"
      ]
    },
    {
      "cell_type": "code",
      "execution_count": 0,
      "metadata": {
        "colab": {},
        "colab_type": "code",
        "id": "XTe8B8MJC2AS"
      },
      "outputs": [],
      "source": [
        "dataset=dataset.na.drop()"
      ]
    },
    {
      "cell_type": "markdown",
      "metadata": {
        "colab_type": "text",
        "id": "Tme-XwPODTAN"
      },
      "source": [
        "Data conversion to Pandas DataFrame for KNN"
      ]
    },
    {
      "cell_type": "code",
      "execution_count": 0,
      "metadata": {
        "colab": {},
        "colab_type": "code",
        "id": "NLoPuAMqDZjb"
      },
      "outputs": [],
      "source": [
        "data = dataset.toPandas()"
      ]
    },
    {
      "cell_type": "code",
      "execution_count": 0,
      "metadata": {
        "colab": {},
        "colab_type": "code",
        "id": "IZ_e5O1GZwVV"
      },
      "outputs": [],
      "source": [
        "# canalso get preprocessed data\n",
        "#data = pd.read_csv('/content/gdrive/My Drive/BigData/preprocessed.csv')"
      ]
    },
    {
      "cell_type": "code",
      "execution_count": null,
      "metadata": {
        "colab": {
          "base_uri": "https://localhost:8080/",
          "height": 85
        },
        "colab_type": "code",
        "id": "c-WIMqNmnOK8",
        "outputId": "411f53d2-5d09-4083-f5f9-d1c3203e9c3e"
      },
      "outputs": [],
      "source": [
        "data.columns"
      ]
    },
    {
      "cell_type": "markdown",
      "metadata": {
        "colab_type": "text",
        "id": "EOV6WxSrCZa6"
      },
      "source": [
        "# Data Visualization"
      ]
    },
    {
      "cell_type": "code",
      "execution_count": 0,
      "metadata": {
        "colab": {},
        "colab_type": "code",
        "id": "jERt_VqwtM_T"
      },
      "outputs": [],
      "source": [
        "primaryVisualizeDF = data.groupby('Primary Type').size()"
      ]
    },
    {
      "cell_type": "code",
      "execution_count": 0,
      "metadata": {
        "colab": {
          "base_uri": "https://localhost:8080/",
          "height": 877
        },
        "colab_type": "code",
        "id": "qiP9cKNwnZk4",
        "outputId": "26de8b58-9e36-4b87-f78f-aa1e31658d5c"
      },
      "outputs": [],
      "source": [
        "primaryVisualizeDF.plot.pie(figsize = (15,15))\n",
        "plt.xlabel('Primary Crime Type', fontsize=10, color = 'red')\n",
        "plt.legend()"
      ]
    },
    {
      "cell_type": "markdown",
      "metadata": {
        "colab_type": "text",
        "id": "0NfWBnYbo5lF"
      },
      "source": [
        "# Preprocessing - specific to KNN model"
      ]
    },
    {
      "cell_type": "code",
      "execution_count": 0,
      "metadata": {
        "colab": {},
        "colab_type": "code",
        "id": "7M_Ivuz9o_ki"
      },
      "outputs": [],
      "source": [
        "data = data.replace(to_replace='None', value=np.nan).dropna()"
      ]
    },
    {
      "cell_type": "markdown",
      "metadata": {
        "colab_type": "text",
        "id": "j-AUAD6kEmE6"
      },
      "source": [
        "**Label Encoding categorical variables**"
      ]
    },
    {
      "cell_type": "code",
      "execution_count": 0,
      "metadata": {
        "colab": {},
        "colab_type": "code",
        "id": "yooPDB8UpshD"
      },
      "outputs": [],
      "source": [
        "# create an instance of label encoder for categorical variables\n",
        "labelEncoder = LabelEncoder()"
      ]
    },
    {
      "cell_type": "code",
      "execution_count": null,
      "metadata": {
        "colab": {
          "base_uri": "https://localhost:8080/",
          "height": 34
        },
        "colab_type": "code",
        "id": "eGJv5m6Epsj4",
        "outputId": "15426eb0-174a-47b9-a644-b6f140151268"
      },
      "outputs": [],
      "source": [
        "primaryEncoded = labelEncoder.fit_transform(data['Primary Type'])\n",
        "primaryEncoded"
      ]
    },
    {
      "cell_type": "code",
      "execution_count": 0,
      "metadata": {
        "colab": {},
        "colab_type": "code",
        "id": "FkEr_rF0E1HA"
      },
      "outputs": [],
      "source": [
        "data['Primary Type'] = primaryEncoded"
      ]
    },
    {
      "cell_type": "code",
      "execution_count": 0,
      "metadata": {
        "colab": {},
        "colab_type": "code",
        "id": "PHS5WH8hE1OZ"
      },
      "outputs": [],
      "source": [
        "# create an instance of label encoder for categorical variables\n",
        "labelEncoder2 = LabelEncoder()"
      ]
    },
    {
      "cell_type": "code",
      "execution_count": null,
      "metadata": {
        "colab": {
          "base_uri": "https://localhost:8080/",
          "height": 34
        },
        "colab_type": "code",
        "id": "N1pzLR1aE1R6",
        "outputId": "b3b3a64d-785c-4316-95c8-321070118a02"
      },
      "outputs": [],
      "source": [
        "locDiscEncoded = labelEncoder2.fit_transform(data['Location Description'])\n",
        "locDiscEncoded"
      ]
    },
    {
      "cell_type": "code",
      "execution_count": 0,
      "metadata": {
        "colab": {},
        "colab_type": "code",
        "id": "X0Gk-8F2E1Uj"
      },
      "outputs": [],
      "source": [
        "data['Location Description'] = locDiscEncoded"
      ]
    },
    {
      "cell_type": "code",
      "execution_count": 0,
      "metadata": {
        "colab": {},
        "colab_type": "code",
        "id": "LrlUH5XBE1Xj"
      },
      "outputs": [],
      "source": [
        "# create an instance of label encoder for categorical variables\n",
        "labelEncoder3 = LabelEncoder()"
      ]
    },
    {
      "cell_type": "code",
      "execution_count": null,
      "metadata": {
        "colab": {
          "base_uri": "https://localhost:8080/",
          "height": 34
        },
        "colab_type": "code",
        "id": "Ir7CFjc99Dpp",
        "outputId": "f7102240-d511-4558-a334-9a502fb5aa4a"
      },
      "outputs": [],
      "source": [
        "blockEncoded = labelEncoder2.fit_transform(data['Location Description'])\n",
        "blockEncoded"
      ]
    },
    {
      "cell_type": "code",
      "execution_count": 0,
      "metadata": {
        "colab": {},
        "colab_type": "code",
        "id": "iRrRRxPv9H8G"
      },
      "outputs": [],
      "source": [
        "data['Block'] = locDiscEncoded"
      ]
    },
    {
      "cell_type": "markdown",
      "metadata": {
        "colab_type": "text",
        "id": "RYLVQ8Hq77UB"
      },
      "source": [
        "Use PCA to combine features"
      ]
    },
    {
      "cell_type": "code",
      "execution_count": 0,
      "metadata": {
        "colab": {},
        "colab_type": "code",
        "id": "c5tfxiBO76m0"
      },
      "outputs": [],
      "source": [
        "from sklearn.decomposition import PCA"
      ]
    },
    {
      "cell_type": "code",
      "execution_count": 0,
      "metadata": {
        "colab": {},
        "colab_type": "code",
        "id": "qpMwQxRl8Cmt"
      },
      "outputs": [],
      "source": [
        "location = data[['Latitude','Longitude']]\n",
        "pca = PCA(n_components=1,random_state=123)"
      ]
    },
    {
      "cell_type": "code",
      "execution_count": 0,
      "metadata": {
        "colab": {},
        "colab_type": "code",
        "id": "KhqBnkvo8Cwt"
      },
      "outputs": [],
      "source": [
        "loc = pca.fit_transform(location)"
      ]
    },
    {
      "cell_type": "code",
      "execution_count": 0,
      "metadata": {
        "colab": {},
        "colab_type": "code",
        "id": "oTe1FyvY8C5q"
      },
      "outputs": [],
      "source": [
        "data['Location'] = loc"
      ]
    },
    {
      "cell_type": "code",
      "execution_count": null,
      "metadata": {
        "colab": {
          "base_uri": "https://localhost:8080/",
          "height": 204
        },
        "colab_type": "code",
        "id": "PzHGyFe19r1j",
        "outputId": "679dbef2-038e-4de8-e79d-faa827dcbe22"
      },
      "outputs": [],
      "source": [
        "data.head(5)"
      ]
    },
    {
      "cell_type": "markdown",
      "metadata": {
        "colab_type": "text",
        "id": "NAls2rbv85K1"
      },
      "source": [
        "# Feature selection"
      ]
    },
    {
      "cell_type": "markdown",
      "metadata": {
        "colab_type": "text",
        "id": "0a-ZhV__HtFD"
      },
      "source": [
        "Checking importance of features using an ExtraTreesClassifier"
      ]
    },
    {
      "cell_type": "code",
      "execution_count": 0,
      "metadata": {
        "colab": {},
        "colab_type": "code",
        "id": "RrrUv-YSH50B"
      },
      "outputs": [],
      "source": [
        "#taking a fraction of data\n",
        "data_sample = data.sample(frac=0.1, random_state=123)"
      ]
    },
    {
      "cell_type": "code",
      "execution_count": 0,
      "metadata": {
        "colab": {},
        "colab_type": "code",
        "id": "PvDJStjSbexb"
      },
      "outputs": [],
      "source": [
        "\n",
        "from sklearn.ensemble import ExtraTreesClassifier\n",
        "import matplotlib.pyplot as plt\n",
        "model = ExtraTreesClassifier()"
      ]
    },
    {
      "cell_type": "code",
      "execution_count": 0,
      "metadata": {
        "colab": {
          "base_uri": "https://localhost:8080/",
          "height": 153
        },
        "colab_type": "code",
        "id": "2P-tEnnReE6v",
        "outputId": "698fee0f-ef9c-45da-e4cc-1d7a601d8fbe"
      },
      "outputs": [],
      "source": [
        "\n",
        "X = data_sample.loc[:, data.columns != 'Primary Type']\n",
        "\n",
        "model.fit(X,data_sample['Primary Type'])"
      ]
    },
    {
      "cell_type": "code",
      "execution_count": 0,
      "metadata": {
        "colab": {
          "base_uri": "https://localhost:8080/",
          "height": 68
        },
        "colab_type": "code",
        "id": "GBN2AhSoIP7q",
        "outputId": "9a57ba68-04e7-4add-e6d3-ef14db455bc1"
      },
      "outputs": [],
      "source": [
        "print(model.feature_importances_) #use inbuilt class feature_importances of tree based classifiers"
      ]
    },
    {
      "cell_type": "code",
      "execution_count": 0,
      "metadata": {
        "colab": {
          "base_uri": "https://localhost:8080/",
          "height": 265
        },
        "colab_type": "code",
        "id": "wOsnxIEiIP_R",
        "outputId": "7c906267-3ce9-4491-d810-5a79a2f72e6a"
      },
      "outputs": [],
      "source": [
        "#plot graph of feature importances for better visualization\n",
        "feat_importances = pd.Series(model.feature_importances_, index=X.columns)\n",
        "#plot for top 10 features\n",
        "feat_importances.nlargest(10).plot(kind='barh')\n",
        "plt.show()"
      ]
    },
    {
      "cell_type": "markdown",
      "metadata": {
        "colab_type": "text",
        "id": "D1NYiNgzIS-4"
      },
      "source": [
        "Find corelation between data to find dependency between data columns"
      ]
    },
    {
      "cell_type": "code",
      "execution_count": 0,
      "metadata": {
        "colab": {
          "base_uri": "https://localhost:8080/",
          "height": 483
        },
        "colab_type": "code",
        "id": "dEVrHIVE0a4R",
        "outputId": "04797670-c057-45f6-b7e0-e206a0652598"
      },
      "outputs": [],
      "source": [
        "corelation = data.corr()\n",
        "corelation"
      ]
    },
    {
      "cell_type": "code",
      "execution_count": 0,
      "metadata": {
        "colab": {
          "base_uri": "https://localhost:8080/",
          "height": 379
        },
        "colab_type": "code",
        "id": "ich52B9_56bj",
        "outputId": "2d736df5-c154-4b8b-f8e4-94dde7a255ef"
      },
      "outputs": [],
      "source": [
        "sns.heatmap(corelation)"
      ]
    },
    {
      "cell_type": "markdown",
      "metadata": {
        "colab_type": "text",
        "id": "1JA7hzJdIdL9"
      },
      "source": [
        "**Based on the above outputs, we have decided that below selected columns are corelated and best params for our KNN model**"
      ]
    },
    {
      "cell_type": "code",
      "execution_count": 0,
      "metadata": {
        "colab": {},
        "colab_type": "code",
        "id": "PTZVuEeT7Bvk"
      },
      "outputs": [],
      "source": [
        "selected_columns = ['Latitude','Longitude','Location Description','Block','WeekDay']\n",
        "#selected_columns = ['Latitude','Longitude']"
      ]
    },
    {
      "cell_type": "markdown",
      "metadata": {
        "colab_type": "text",
        "id": "yw4G3d0nIzwt"
      },
      "source": [
        "# Splitting data in train and test"
      ]
    },
    {
      "cell_type": "code",
      "execution_count": 0,
      "metadata": {
        "colab": {},
        "colab_type": "code",
        "id": "XZxGgyyRTzMx"
      },
      "outputs": [],
      "source": [
        "from sklearn.model_selection import train_test_split\n",
        "X_train, X_test, y_train, y_test = train_test_split(data[selected_columns], data['Primary Type'], test_size=0.3) # 70% training and 30% test"
      ]
    },
    {
      "cell_type": "markdown",
      "metadata": {
        "colab_type": "text",
        "id": "GTPfW61XMOcS"
      },
      "source": [
        "# Building initial KNN Classifier"
      ]
    },
    {
      "cell_type": "markdown",
      "metadata": {
        "colab_type": "text",
        "id": "aCMouQWeJYlA"
      },
      "source": [
        "**Initially we will build our classifier with 5 neighbours**"
      ]
    },
    {
      "cell_type": "code",
      "execution_count": 0,
      "metadata": {
        "colab": {
          "base_uri": "https://localhost:8080/",
          "height": 68
        },
        "colab_type": "code",
        "id": "jacj4SuDJjIG",
        "outputId": "8f7eb4bb-5e86-41b9-da26-12f0f2799b4e"
      },
      "outputs": [],
      "source": [
        "knn_5 = KNeighborsClassifier(n_neighbors=5) \n",
        "knn_5.fit(X_train,y_train)\n",
        "pred_train = knn_5.predict(X_train)\n",
        "pred_i = knn_5.predict(X_test)\n",
        "print('Test accuracy ', metrics.accuracy_score(y_train, pred_train))\n",
        "print('Accuracy ', metrics.accuracy_score(y_test, pred_i))\n",
        "print('F1 score ', metrics.f1_score(y_test, pred_i, average = 'weighted'))"
      ]
    },
    {
      "cell_type": "markdown",
      "metadata": {
        "colab_type": "text",
        "id": "7vCct7d0J3_M"
      },
      "source": [
        "We will deploy Elbow method to get optimum number of neighbours"
      ]
    },
    {
      "cell_type": "code",
      "execution_count": 0,
      "metadata": {
        "colab": {
          "base_uri": "https://localhost:8080/",
          "height": 561
        },
        "colab_type": "code",
        "id": "93dyhWUn7hg8",
        "outputId": "32046abf-c7ef-4212-9aa7-163d1667b707"
      },
      "outputs": [],
      "source": [
        "error_rate = []\n",
        "\n",
        "krange = range(10,50,5)\n",
        "for i in krange:\n",
        " \n",
        " knn = KNeighborsClassifier(n_neighbors=i, metric='manhattan', weights = 'uniform',n_jobs= -1) # haversine - if only lat long\n",
        " knn.fit(X_train,y_train)\n",
        " pred_train = knn.predict(X_train)\n",
        " pred_i = knn.predict(X_test)\n",
        " error_rate.append(np.mean(pred_i != y_test))\n",
        " print('Neighbours ',i)\n",
        " print('Test accuracy ', metrics.accuracy_score(y_train, pred_train))\n",
        " print('Accuracy ', metrics.accuracy_score(y_test, pred_i))\n",
        " print('F1 score ', metrics.f1_score(y_test, pred_i, average = 'weighted'))"
      ]
    },
    {
      "cell_type": "code",
      "execution_count": 0,
      "metadata": {
        "colab": {
          "base_uri": "https://localhost:8080/",
          "height": 421
        },
        "colab_type": "code",
        "id": "INxBFggjYpvT",
        "outputId": "a638370a-0048-4d2a-e1b4-7000aef4b060"
      },
      "outputs": [],
      "source": [
        "plt.figure(figsize=(10,6))\n",
        "\n",
        "plt.plot(krange,error_rate, color= 'blue', linestyle= 'dashed', marker= 'o', markerfacecolor='red', markersize=1)\n",
        "plt.title('Error Rate vs. K Value')\n",
        "plt.xlabel('K')\n",
        "plt.ylabel('Error Rate')"
      ]
    },
    {
      "cell_type": "markdown",
      "metadata": {
        "colab_type": "text",
        "id": "QeFOAYSDLAvk"
      },
      "source": [
        "K = 25, optimum"
      ]
    },
    {
      "cell_type": "markdown",
      "metadata": {
        "colab_type": "text",
        "id": "9rgflDkWzlJi"
      },
      "source": [
        "# Grid Search/ Random Search -KNN"
      ]
    },
    {
      "cell_type": "markdown",
      "metadata": {
        "colab_type": "text",
        "id": "b9E1ubKeVJmK"
      },
      "source": [
        "**To find optimal paramteres for KNN Model, we will implement Grid search.**"
      ]
    },
    {
      "cell_type": "code",
      "execution_count": 0,
      "metadata": {
        "colab": {},
        "colab_type": "code",
        "id": "pANPaCrQY1dm"
      },
      "outputs": [],
      "source": [
        "from sklearn.model_selection import GridSearchCV, RandomizedSearchCV"
      ]
    },
    {
      "cell_type": "code",
      "execution_count": 0,
      "metadata": {
        "colab": {
          "base_uri": "https://localhost:8080/",
          "height": 34
        },
        "colab_type": "code",
        "id": "YApb-mzH1m3l",
        "outputId": "f8251988-8fb9-4f47-d375-2ce87d9a3150"
      },
      "outputs": [],
      "source": [
        "KNeighborsClassifier().get_params().keys()"
      ]
    },
    {
      "cell_type": "code",
      "execution_count": 0,
      "metadata": {
        "colab": {},
        "colab_type": "code",
        "id": "pzHIrSIZY32b"
      },
      "outputs": [],
      "source": [
        "grid_params = {\n",
        "    'weights' : ['uniform', 'distance'],\n",
        "    'metric' : ['manhattan','jaccard'] #haversine - if only lat long\n",
        "}"
      ]
    },
    {
      "cell_type": "code",
      "execution_count": 0,
      "metadata": {
        "colab": {},
        "colab_type": "code",
        "id": "lQd7FQcmY9jh"
      },
      "outputs": [],
      "source": [
        "randomSearch = RandomizedSearchCV(\n",
        "    KNeighborsClassifier(25),\n",
        "    grid_params,\n",
        "    verbose = 1,\n",
        "    cv =3,\n",
        "    random_state = 123\n",
        "    )\n"
      ]
    },
    {
      "cell_type": "code",
      "execution_count": 0,
      "metadata": {
        "colab": {
          "base_uri": "https://localhost:8080/",
          "height": 122
        },
        "colab_type": "code",
        "id": "SBwPGFLKY_tz",
        "outputId": "78ac84c2-cc5a-4b76-daf8-02261745dc6b"
      },
      "outputs": [],
      "source": [
        "#takes very long time\n",
        "rs_results = randomSearch.fit(X_train_gs, y_train_gs)"
      ]
    },
    {
      "cell_type": "code",
      "execution_count": 0,
      "metadata": {
        "colab": {
          "base_uri": "https://localhost:8080/",
          "height": 34
        },
        "colab_type": "code",
        "id": "RDxNx9h1ZDVa",
        "outputId": "c6a1fbad-1065-408f-9a06-92ec2aa12521"
      },
      "outputs": [],
      "source": [
        "rs_results.best_score_"
      ]
    },
    {
      "cell_type": "code",
      "execution_count": 0,
      "metadata": {
        "colab": {
          "base_uri": "https://localhost:8080/",
          "height": 34
        },
        "colab_type": "code",
        "id": "3RiDedFpZFa4",
        "outputId": "35b02482-8438-41ca-9ac3-0ba88cec082f"
      },
      "outputs": [],
      "source": [
        "rs_results.best_params_"
      ]
    },
    {
      "cell_type": "markdown",
      "metadata": {
        "colab_type": "text",
        "id": "CyrMPcU75Jj5"
      },
      "source": [
        "# Oversmapling -SMOTE to balance dataset"
      ]
    },
    {
      "cell_type": "code",
      "execution_count": 0,
      "metadata": {
        "colab": {},
        "colab_type": "code",
        "id": "2Xwkw60O6lJt"
      },
      "outputs": [],
      "source": [
        "from imblearn.over_sampling import SMOTE"
      ]
    },
    {
      "cell_type": "code",
      "execution_count": 0,
      "metadata": {
        "colab": {},
        "colab_type": "code",
        "id": "C7nArO9M5Wvb"
      },
      "outputs": [],
      "source": [
        "# Oversample 'Majority'\n",
        "sm = SMOTE('minority', random_state=123)"
      ]
    },
    {
      "cell_type": "code",
      "execution_count": 0,
      "metadata": {
        "colab": {},
        "colab_type": "code",
        "id": "mb-jafbP0Dp4"
      },
      "outputs": [],
      "source": [
        "X_train_res, y_train_res = sm.fit_sample(X_train, y_train)"
      ]
    },
    {
      "cell_type": "code",
      "execution_count": 0,
      "metadata": {
        "colab": {},
        "colab_type": "code",
        "id": "0uniwwfb8kUz"
      },
      "outputs": [],
      "source": [
        "#convert back to Dataframe\n",
        "X_train_updated = pd.DataFrame(X_train_res, columns= selected_columns)\n",
        "y_train_updated = pd.Series(y_train_res)"
      ]
    },
    {
      "cell_type": "code",
      "execution_count": 0,
      "metadata": {
        "colab": {
          "base_uri": "https://localhost:8080/",
          "height": 323
        },
        "colab_type": "code",
        "id": "vGZFvcQYDzk6",
        "outputId": "1ea0cae1-349c-4d9e-da1e-fa8261341691"
      },
      "outputs": [],
      "source": [
        "target_counts = y_train_updated.value_counts()\n",
        "target_counts"
      ]
    },
    {
      "cell_type": "code",
      "execution_count": 0,
      "metadata": {
        "colab": {},
        "colab_type": "code",
        "id": "ijrSGf5vbyvo"
      },
      "outputs": [],
      "source": [
        "knn = KNeighborsClassifier(n_neighbors=25, metric='manhattan', weights = 'uniform')"
      ]
    },
    {
      "cell_type": "code",
      "execution_count": 0,
      "metadata": {
        "colab": {
          "base_uri": "https://localhost:8080/",
          "height": 68
        },
        "colab_type": "code",
        "id": "ZFsoujnPZ0T0",
        "outputId": "4c14f4a1-1518-40d3-ff40-63854f429c80"
      },
      "outputs": [],
      "source": [
        "knn.fit(X_train_updated,y_train_updated)"
      ]
    },
    {
      "cell_type": "code",
      "execution_count": 0,
      "metadata": {
        "colab": {},
        "colab_type": "code",
        "id": "r5SiTi9ffaJW"
      },
      "outputs": [],
      "source": [
        "pred_i = knn.predict(X_test)"
      ]
    },
    {
      "cell_type": "code",
      "execution_count": 0,
      "metadata": {
        "colab": {
          "base_uri": "https://localhost:8080/",
          "height": 51
        },
        "colab_type": "code",
        "id": "hjd22UnHaCo1",
        "outputId": "a74bd0a0-94ea-4587-cc8d-245572c609bd"
      },
      "outputs": [],
      "source": [
        "print('Accuracy ', metrics.accuracy_score(y_test, pred_i))\n",
        "print('F1 score ', metrics.f1_score(y_test, pred_i, average = 'weighted'))"
      ]
    },
    {
      "cell_type": "markdown",
      "metadata": {
        "colab_type": "text",
        "id": "3rhViKqR6zx5"
      },
      "source": [
        "Oversampling the Minority classed helped with an increase in accuracy and F1 score"
      ]
    },
    {
      "cell_type": "markdown",
      "metadata": {
        "colab_type": "text",
        "id": "ztex8bE3Kh4y"
      },
      "source": [
        "# Undersampling - Cluster Centroids"
      ]
    },
    {
      "cell_type": "code",
      "execution_count": 0,
      "metadata": {
        "colab": {},
        "colab_type": "code",
        "id": "SAW8VBzUKqQY"
      },
      "outputs": [],
      "source": [
        "from imblearn.under_sampling import ClusterCentroids"
      ]
    },
    {
      "cell_type": "code",
      "execution_count": 0,
      "metadata": {
        "colab": {},
        "colab_type": "code",
        "id": "7GUmuQreKqaw"
      },
      "outputs": [],
      "source": [
        "# Undersample 'Majority'\n",
        "cc = ClusterCentroids(sampling_strategy = 'majority')"
      ]
    },
    {
      "cell_type": "code",
      "execution_count": 0,
      "metadata": {
        "colab": {},
        "colab_type": "code",
        "id": "YXyTPI91zxe4"
      },
      "outputs": [],
      "source": [
        "X_cc, y_cc = cc.fit_sample(X_train, y_train)"
      ]
    },
    {
      "cell_type": "code",
      "execution_count": 0,
      "metadata": {
        "colab": {},
        "colab_type": "code",
        "id": "uDjouVqhKqhy"
      },
      "outputs": [],
      "source": [
        "#convert back to Dataframe\n",
        "X_train_updated = pd.DataFrame(X_cc, columns= selected_columns)\n",
        "y_train_updated = pd.Series(y_cc)"
      ]
    },
    {
      "cell_type": "code",
      "execution_count": 0,
      "metadata": {
        "colab": {
          "base_uri": "https://localhost:8080/",
          "height": 323
        },
        "colab_type": "code",
        "id": "VyT4t8-AKqkx",
        "outputId": "5521e98d-006e-4332-f67e-b337e4e9961f"
      },
      "outputs": [],
      "source": [
        "target_counts = y_train_updated.value_counts()\n",
        "target_counts"
      ]
    },
    {
      "cell_type": "code",
      "execution_count": 0,
      "metadata": {
        "colab": {},
        "colab_type": "code",
        "id": "7PmToqDSa2XX"
      },
      "outputs": [],
      "source": [
        "knn = KNeighborsClassifier(n_neighbors=25, metric='manhattan', weights = 'uniform')"
      ]
    },
    {
      "cell_type": "code",
      "execution_count": 0,
      "metadata": {
        "colab": {},
        "colab_type": "code",
        "id": "FMPZhA4Ya2Xb"
      },
      "outputs": [],
      "source": [
        "knn.fit(X_train_updated,y_train_updated)"
      ]
    },
    {
      "cell_type": "code",
      "execution_count": 0,
      "metadata": {
        "colab": {},
        "colab_type": "code",
        "id": "uuc80Pk-foXi"
      },
      "outputs": [],
      "source": [
        "pred_i = knn.predict(X_test)"
      ]
    },
    {
      "cell_type": "code",
      "execution_count": 0,
      "metadata": {
        "colab": {
          "base_uri": "https://localhost:8080/",
          "height": 51
        },
        "colab_type": "code",
        "id": "Ab7Hpaaga2Xe",
        "outputId": "b02c2998-c269-4e1d-9614-3be3556cc7e5"
      },
      "outputs": [],
      "source": [
        "print('Accuracy ', metrics.accuracy_score(y_test, pred_i))\n",
        "print('F1 score ', metrics.f1_score(y_test, pred_i, average = 'weighted'))"
      ]
    },
    {
      "cell_type": "markdown",
      "metadata": {
        "colab_type": "text",
        "id": "5Ss5mHnLBWsu"
      },
      "source": [
        "Undersampling using cluster centroids does not help much in high dimensional data"
      ]
    },
    {
      "cell_type": "markdown",
      "metadata": {
        "colab_type": "text",
        "id": "-CCqvNFoXtOH"
      },
      "source": [
        "# Random Sampling"
      ]
    },
    {
      "cell_type": "code",
      "execution_count": 0,
      "metadata": {
        "colab": {},
        "colab_type": "code",
        "id": "xT9UIHH8Xx0W"
      },
      "outputs": [],
      "source": [
        "from imblearn.over_sampling import RandomOverSampler\n",
        "from imblearn.under_sampling import RandomUnderSampler"
      ]
    },
    {
      "cell_type": "code",
      "execution_count": 0,
      "metadata": {
        "colab": {},
        "colab_type": "code",
        "id": "dvLxN1r3XzBm"
      },
      "outputs": [],
      "source": [
        "# define oversampling strategy\n",
        "over = RandomOverSampler(sampling_strategy= 'minority') "
      ]
    },
    {
      "cell_type": "code",
      "execution_count": 0,
      "metadata": {
        "colab": {
          "base_uri": "https://localhost:8080/",
          "height": 71
        },
        "colab_type": "code",
        "id": "EMi9-vOXXzHQ",
        "outputId": "b98e71f2-c196-42c0-9e8c-296d85688bfd"
      },
      "outputs": [],
      "source": [
        "# fit and apply the transform\n",
        "X_random, y_random = over.fit_resample(X_train, y_train)"
      ]
    },
    {
      "cell_type": "code",
      "execution_count": 0,
      "metadata": {
        "colab": {},
        "colab_type": "code",
        "id": "OBQEhNlHB_XE"
      },
      "outputs": [],
      "source": [
        "#convert back to Dataframe\n",
        "X_train_updated = pd.DataFrame(X_random, columns= selected_columns)\n",
        "y_train_updated = pd.Series(y_random)"
      ]
    },
    {
      "cell_type": "code",
      "execution_count": 0,
      "metadata": {
        "colab": {
          "base_uri": "https://localhost:8080/",
          "height": 323
        },
        "colab_type": "code",
        "id": "k_yrEjxRCIJW",
        "outputId": "7c67f845-9439-4cbe-f2d7-16454ebfcc0f"
      },
      "outputs": [],
      "source": [
        "target_counts_random = y_train_updated.value_counts()\n",
        "target_counts_random"
      ]
    },
    {
      "cell_type": "code",
      "execution_count": 0,
      "metadata": {
        "colab": {},
        "colab_type": "code",
        "id": "feWopjT6BwPR"
      },
      "outputs": [],
      "source": [
        "knn = KNeighborsClassifier(n_neighbors=25, metric='manhattan', weights = 'uniform')"
      ]
    },
    {
      "cell_type": "code",
      "execution_count": 0,
      "metadata": {
        "colab": {
          "base_uri": "https://localhost:8080/",
          "height": 68
        },
        "colab_type": "code",
        "id": "g3YdikidBwPU",
        "outputId": "6a6553e5-d459-4d49-ace0-203fc32b0637"
      },
      "outputs": [],
      "source": [
        "knn.fit(X_train_updated,y_train_updated)"
      ]
    },
    {
      "cell_type": "code",
      "execution_count": 0,
      "metadata": {
        "colab": {},
        "colab_type": "code",
        "id": "5Le8LxruBwPW"
      },
      "outputs": [],
      "source": [
        "pred_i = knn.predict(X_test)"
      ]
    },
    {
      "cell_type": "code",
      "execution_count": 0,
      "metadata": {
        "colab": {
          "base_uri": "https://localhost:8080/",
          "height": 51
        },
        "colab_type": "code",
        "id": "q3GNIJ_4BwPY",
        "outputId": "d0011115-9d59-454d-8ced-ed9fb5240ca7"
      },
      "outputs": [],
      "source": [
        "print('Accuracy ', metrics.accuracy_score(y_test, pred_i))\n",
        "print('F1 score ', metrics.f1_score(y_test, pred_i, average = 'weighted'))"
      ]
    },
    {
      "cell_type": "markdown",
      "metadata": {
        "colab_type": "text",
        "id": "E7_pm-e2Ca0L"
      },
      "source": [
        "OverSampling minority class improves model "
      ]
    },
    {
      "cell_type": "code",
      "execution_count": 0,
      "metadata": {
        "colab": {},
        "colab_type": "code",
        "id": "3mB8nOiyXzQb"
      },
      "outputs": [],
      "source": [
        "# define undersampling strategy\n",
        "under = RandomUnderSampler(sampling_strategy= 'majority')"
      ]
    },
    {
      "cell_type": "code",
      "execution_count": 0,
      "metadata": {
        "colab": {
          "base_uri": "https://localhost:8080/",
          "height": 71
        },
        "colab_type": "code",
        "id": "ERhCRLV0YE0y",
        "outputId": "bf99a7c1-dfdb-4f01-d02a-b2596409552d"
      },
      "outputs": [],
      "source": [
        "# fit and apply the transform\n",
        "X_train_updated, y_train_updated = under.fit_resample(X_train, y_train)"
      ]
    },
    {
      "cell_type": "code",
      "execution_count": 0,
      "metadata": {
        "colab": {
          "base_uri": "https://localhost:8080/",
          "height": 323
        },
        "colab_type": "code",
        "id": "wZvC1eGbYQAG",
        "outputId": "63f1fba1-7042-4a2e-b066-1cf1bfa79f20"
      },
      "outputs": [],
      "source": [
        "y_train_updated = pd.Series(y_train_updated)\n",
        "target_counts_random = y_train.value_counts()\n",
        "target_counts_random"
      ]
    },
    {
      "cell_type": "code",
      "execution_count": 0,
      "metadata": {
        "colab": {},
        "colab_type": "code",
        "id": "m9cqjY9ta6wz"
      },
      "outputs": [],
      "source": [
        "knn = KNeighborsClassifier(n_neighbors=25, metric='manhattan', weights = 'uniform')"
      ]
    },
    {
      "cell_type": "code",
      "execution_count": 0,
      "metadata": {
        "colab": {
          "base_uri": "https://localhost:8080/",
          "height": 68
        },
        "colab_type": "code",
        "id": "I1T4wnnOa6w1",
        "outputId": "e6c51df4-8110-4d46-fe28-bacbfd2d61e4"
      },
      "outputs": [],
      "source": [
        "knn.fit(X_train_updated,y_train_updated)"
      ]
    },
    {
      "cell_type": "code",
      "execution_count": 0,
      "metadata": {
        "colab": {},
        "colab_type": "code",
        "id": "zbZBXuuOfuEA"
      },
      "outputs": [],
      "source": [
        "pred_i = knn.predict(X_test)"
      ]
    },
    {
      "cell_type": "code",
      "execution_count": 0,
      "metadata": {
        "colab": {
          "base_uri": "https://localhost:8080/",
          "height": 51
        },
        "colab_type": "code",
        "id": "oGGSKX2ya6w2",
        "outputId": "ac27d3d5-cd11-4c1e-9801-ff427e916462"
      },
      "outputs": [],
      "source": [
        "print('Accuracy ', metrics.accuracy_score(y_test, pred_i))\n",
        "print('F1 score ', metrics.f1_score(y_test, pred_i, average = 'weighted'))"
      ]
    },
    {
      "cell_type": "markdown",
      "metadata": {
        "colab_type": "text",
        "id": "pH737l9RBTyE"
      },
      "source": [
        "Oversampling does not have significant impact on model"
      ]
    },
    {
      "cell_type": "markdown",
      "metadata": {
        "colab_type": "text",
        "id": "W145iiFhhXQX"
      },
      "source": [
        "# Ensemble models"
      ]
    },
    {
      "cell_type": "markdown",
      "metadata": {
        "colab_type": "text",
        "id": "mT6lpKUt44I6"
      },
      "source": [
        "Here we will try ensemble of Various classification models "
      ]
    },
    {
      "cell_type": "code",
      "execution_count": 0,
      "metadata": {
        "colab": {},
        "colab_type": "code",
        "id": "nBJQbo5khZ8Y"
      },
      "outputs": [],
      "source": [
        "from sklearn.ensemble import VotingClassifier\n",
        "from sklearn.ensemble import RandomForestClassifier\n",
        "from sklearn.svm import SVC\n",
        "from sklearn.linear_model import LogisticRegression"
      ]
    },
    {
      "cell_type": "code",
      "execution_count": 0,
      "metadata": {
        "colab": {},
        "colab_type": "code",
        "id": "QviPibKYi5VZ"
      },
      "outputs": [],
      "source": [
        "#KNN with - 25 neighbours\n",
        "knn = KNeighborsClassifier(25, metric='manhattan', weights = 'uniform',n_jobs= -1)\n",
        "\n",
        "#random forest with 75 Decision Trees\n",
        "rf = RandomForestClassifier(10, max_depth = 10, n_jobs= -1)\n",
        "\n",
        "#Support Vector Classifier\n",
        "svm = SVC(kernel = 'linear', random_state = 123, probability=True)"
      ]
    },
    {
      "cell_type": "code",
      "execution_count": null,
      "metadata": {
        "colab": {
          "base_uri": "https://localhost:8080/",
          "height": 68
        },
        "colab_type": "code",
        "id": "O4axGLo_ks8U",
        "outputId": "fb720f2e-1a36-45af-d151-4989c31ff72f"
      },
      "outputs": [],
      "source": [
        "# can using previopusly trained KNN as well\n",
        "knn.fit(X_train1,y_train1)"
      ]
    },
    {
      "cell_type": "code",
      "execution_count": null,
      "metadata": {
        "colab": {
          "base_uri": "https://localhost:8080/",
          "height": 153
        },
        "colab_type": "code",
        "id": "Z8fsZ5jZ0SN4",
        "outputId": "6be1a5b3-9230-487e-fd54-93588cbb61b7"
      },
      "outputs": [],
      "source": [
        "rf.fit(X_train,y_train)"
      ]
    },
    {
      "cell_type": "code",
      "execution_count": null,
      "metadata": {
        "colab": {
          "base_uri": "https://localhost:8080/",
          "height": 34
        },
        "colab_type": "code",
        "id": "LBlfBlwrWYJP",
        "outputId": "f45be6bd-b5d6-4f73-af61-f4296e7a9176"
      },
      "outputs": [],
      "source": [
        "rf.score(X_test, y_test)"
      ]
    },
    {
      "cell_type": "code",
      "execution_count": null,
      "metadata": {
        "colab": {
          "base_uri": "https://localhost:8080/",
          "height": 85
        },
        "colab_type": "code",
        "id": "d3n_NCS80Sco",
        "outputId": "3d5a6ddc-d6e4-4c85-c998-8b8e9adb532b"
      },
      "outputs": [],
      "source": [
        "svm.fit(X_train1,y_train1)"
      ]
    },
    {
      "cell_type": "code",
      "execution_count": null,
      "metadata": {
        "colab": {
          "base_uri": "https://localhost:8080/",
          "height": 34
        },
        "colab_type": "code",
        "id": "6WLAxzUPsKoA",
        "outputId": "94b8fbdf-08d4-448b-da21-5a4ce47cb122"
      },
      "outputs": [],
      "source": [
        "svm.score(X_test, y_test)"
      ]
    },
    {
      "cell_type": "code",
      "execution_count": 0,
      "metadata": {
        "colab": {},
        "colab_type": "code",
        "id": "T1Wx0sPrjB0h"
      },
      "outputs": [],
      "source": [
        "#create a dictionary of our models\n",
        "estimators=[('knn', knn), ('rf', rf), ('svm', svm)]\n",
        "#create our voting classifier, inputting our models\n",
        "ensemble = VotingClassifier(estimators, voting='hard')"
      ]
    },
    {
      "cell_type": "code",
      "execution_count": 0,
      "metadata": {
        "colab": {},
        "colab_type": "code",
        "id": "Xu1RsnXTkBn5"
      },
      "outputs": [],
      "source": [
        "#fit model to training data\n",
        "ensemble.fit(X_train, y_train)\n",
        "#test our model on the test data\n",
        "ensemble.score(X_test, y_test)"
      ]
    }
  ],
  "metadata": {
    "accelerator": "GPU",
    "colab": {
      "collapsed_sections": [
        "EOV6WxSrCZa6"
      ],
      "machine_shape": "hm",
      "name": "KNN-final.ipynb",
      "provenance": [],
      "toc_visible": true
    },
    "kernelspec": {
      "display_name": "Python 3",
      "name": "python3"
    },
    "language_info": {
      "codemirror_mode": {
        "name": "ipython",
        "version": 3
      },
      "file_extension": ".py",
      "mimetype": "text/x-python",
      "name": "python",
      "nbconvert_exporter": "python",
      "pygments_lexer": "ipython3",
      "version": "3.10.11"
    }
  },
  "nbformat": 4,
  "nbformat_minor": 0
}
